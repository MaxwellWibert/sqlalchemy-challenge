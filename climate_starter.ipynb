{
  "cells": [
    {
      "cell_type": "code",
      "execution_count": 1,
      "metadata": {},
      "outputs": [],
      "source": [
        "%matplotlib inline\n",
        "from matplotlib import style\n",
        "style.use('fivethirtyeight')\n",
        "import matplotlib.pyplot as plt"
      ]
    },
    {
      "cell_type": "code",
      "execution_count": 2,
      "metadata": {},
      "outputs": [],
      "source": [
        "import numpy as np\n",
        "import pandas as pd"
      ]
    },
    {
      "cell_type": "code",
      "execution_count": 3,
      "metadata": {},
      "outputs": [],
      "source": [
        "import datetime as dt"
      ]
    },
    {
      "cell_type": "markdown",
      "execution_count": null,
      "metadata": {},
      "outputs": [],
      "source": [
        "# Reflect Tables into SQLAlchemy ORM"
      ]
    },
    {
      "cell_type": "code",
      "execution_count": 4,
      "metadata": {},
      "outputs": [],
      "source": [
        "# Python SQL toolkit and Object Relational Mapper\n",
        "import sqlalchemy\n",
        "from sqlalchemy.ext.automap import automap_base\n",
        "from sqlalchemy.orm import Session\n",
        "from sqlalchemy import create_engine, func, inspect, desc"
      ]
    },
    {
      "cell_type": "code",
      "execution_count": 5,
      "metadata": {},
      "outputs": [],
      "source": [
        "engine = create_engine(\"sqlite:///Resources/hawaii.sqlite\")"
      ]
    },
    {
      "cell_type": "code",
      "execution_count": 6,
      "metadata": {},
      "outputs": [],
      "source": [
        "# reflect an existing database into a new model\n",
        "Base = automap_base()\n",
        "# reflect the tables\n",
        "Base.prepare(engine, reflect=True)"
      ]
    },
    {
      "cell_type": "code",
      "execution_count": 7,
      "metadata": {},
      "outputs": [
        {
          "data": {
            "text/plain": "['measurement', 'station']"
          },
          "execution_count": 7,
          "metadata": {},
          "output_type": "execute_result"
        }
      ],
      "source": [
        "# We can view all of the classes that automap found\n",
        "Base.classes.keys()"
      ]
    },
    {
      "cell_type": "code",
      "execution_count": null,
      "metadata": {},
      "outputs": [],
      "source": []
    },
    {
      "cell_type": "code",
      "execution_count": 8,
      "metadata": {},
      "outputs": [],
      "source": [
        "# Save references to each table\n",
        "Measurement = Base.classes.measurement\n",
        "Station = Base.classes.station"
      ]
    },
    {
      "cell_type": "code",
      "execution_count": 9,
      "metadata": {},
      "outputs": [],
      "source": [
        "# Create our session (link) from Python to the DB\n",
        "session = Session(engine)"
      ]
    },
    {
      "cell_type": "markdown",
      "execution_count": null,
      "metadata": {},
      "outputs": [],
      "source": [
        "# Exploratory Climate Analysis"
      ]
    },
    {
      "cell_type": "code",
      "execution_count": 10,
      "metadata": {},
      "outputs": [
        {
          "name": "stdout",
          "output_type": "stream",
          "text": "id : INTEGER\nstation : TEXT\ndate : TEXT\nprcp : FLOAT\ntobs : FLOAT\n\n\nid : INTEGER\nstation : TEXT\nname : TEXT\nlatitude : FLOAT\nlongitude : FLOAT\nelevation : FLOAT\n"
        }
      ],
      "source": [
        "measure_table = inspect(Measurement)\n",
        "station_table = inspect(Station)\n",
        "for column in measure_table.c:\n",
        "    print (column.name, \":\", column.type)\n",
        "print('\\n')\n",
        "for column in station_table.c:\n",
        "    print(column.name, \":\", column.type)"
      ]
    },
    {
      "cell_type": "code",
      "execution_count": 11,
      "metadata": {},
      "outputs": [],
      "source": [
        "# Design a query to retrieve the last 12 months of precipitation data and plot the results"
      ]
    },
    {
      "cell_type": "code",
      "execution_count": 12,
      "metadata": {},
      "outputs": [],
      "source": [
        "# Calculate the date 1 year ago from the last data point in the database\n",
        "recent_date_string = session.query(Measurement).order_by(Measurement.date.desc()).limit(1)[0].date\n",
        "year_delta = dt.timedelta(days=365)\n",
        "\n",
        "year_prior = dt.date.fromisoformat(recent_date_string) - year_delta"
      ]
    },
    {
      "cell_type": "code",
      "execution_count": 13,
      "metadata": {},
      "outputs": [],
      "source": [
        "# Perform a query to retrieve the data and precipitation scores\n",
        "data=  [x for x in session.query(Measurement).filter(Measurement.date >= year_prior)]\n",
        "unzipped_data = {\"id\": [x.id for x in data], \"station\": [x.station for x in data], \"date\": [x.date for x in data], 'precipitation': [x.prcp for x in data], 'tobs': [x.tobs for x in data]}"
      ]
    },
    {
      "cell_type": "code",
      "execution_count": 14,
      "metadata": {},
      "outputs": [],
      "source": [
        "# Save the query results as a Pandas DataFrame and set the index to the date column\n",
        "# Sort the dataframe by date\n",
        "df = pd.DataFrame(unzipped_data).set_index('date').sort_values(by=\"date\",ascending=False).iloc[::-1]"
      ]
    },
    {
      "cell_type": "code",
      "execution_count": 15,
      "metadata": {},
      "outputs": [],
      "source": [
        "prcp_series= df['precipitation']"
      ]
    },
    {
      "cell_type": "code",
      "execution_count": 16,
      "metadata": {},
      "outputs": [
        {
          "data": {
            "text/plain": "<matplotlib.legend.Legend at 0x122a130d0>"
          },
          "execution_count": 16,
          "metadata": {},
          "output_type": "execute_result"
        },
        {
          "data": {
            "image/png": "[encoded data removed]",
            "image/svg+xml": "<?xml version=\"1.0\" encoding=\"utf-8\" standalone=\"no\"?>\n<!DOCTYPE svg PUBLIC \"-//W3C//DTD SVG 1.1//EN\"\n  \"http://www.w3.org/Graphics/SVG/1.1/DTD/svg11.dtd\">\n<!-- Created with matplotlib (http://matplotlib.org/) -->\n<svg height=\"250.22035pt\" version=\"1.1\" viewBox=\"0 0 400.1025 250.22035\" width=\"400.1025pt\" xmlns=\"http://www.w3.org/2000/svg\" xmlns:xlink=\"http://www.w3.org/1999/xlink\">\n <defs>\n  <style type=\"text/css\">\n*{stroke-linecap:butt;stroke-linejoin:round;}\n  </style>\n </defs>\n <g id=\"figure_1\">\n  <g id=\"patch_1\">\n   <path d=\"M 0 250.22035 \nL 400.1025 250.22035 \nL 400.1025 0 \nL 0 0 \nz\n\" style=\"fill:none;\"/>\n  </g>\n  <g id=\"axes_1\">\n   <g id=\"patch_2\">\n    <path d=\"M 17.0625 227.4066 \nL 392.9025 227.4066 \nL 392.9025 9.9666 \nL 17.0625 9.9666 \nz\n\" style=\"fill:#f0f0f0;\"/>\n   </g>\n   <g id=\"matplotlib.axis_1\">\n    <g id=\"text_1\">\n     <!-- date -->\n     <defs>\n      <path d=\"M 45.40625 46.390625 \nL 45.40625 75.984375 \nL 54.390625 75.984375 \nL 54.390625 0 \nL 45.40625 0 \nL 45.40625 8.203125 \nQ 42.578125 3.328125 38.25 0.953125 \nQ 33.9375 -1.421875 27.875 -1.421875 \nQ 17.96875 -1.421875 11.734375 6.484375 \nQ 5.515625 14.40625 5.515625 27.296875 \nQ 5.515625 40.1875 11.734375 48.09375 \nQ 17.96875 56 27.875 56 \nQ 33.9375 56 38.25 53.625 \nQ 42.578125 51.265625 45.40625 46.390625 \nz\nM 14.796875 27.296875 \nQ 14.796875 17.390625 18.875 11.75 \nQ 22.953125 6.109375 30.078125 6.109375 \nQ 37.203125 6.109375 41.296875 11.75 \nQ 45.40625 17.390625 45.40625 27.296875 \nQ 45.40625 37.203125 41.296875 42.84375 \nQ 37.203125 48.484375 30.078125 48.484375 \nQ 22.953125 48.484375 18.875 42.84375 \nQ 14.796875 37.203125 14.796875 27.296875 \nz\n\" id=\"DejaVuSans-64\"/>\n      <path d=\"M 34.28125 27.484375 \nQ 23.390625 27.484375 19.1875 25 \nQ 14.984375 22.515625 14.984375 16.5 \nQ 14.984375 11.71875 18.140625 8.90625 \nQ 21.296875 6.109375 26.703125 6.109375 \nQ 34.1875 6.109375 38.703125 11.40625 \nQ 43.21875 16.703125 43.21875 25.484375 \nL 43.21875 27.484375 \nz\nM 52.203125 31.203125 \nL 52.203125 0 \nL 43.21875 0 \nL 43.21875 8.296875 \nQ 40.140625 3.328125 35.546875 0.953125 \nQ 30.953125 -1.421875 24.3125 -1.421875 \nQ 15.921875 -1.421875 10.953125 3.296875 \nQ 6 8.015625 6 15.921875 \nQ 6 25.140625 12.171875 29.828125 \nQ 18.359375 34.515625 30.609375 34.515625 \nL 43.21875 34.515625 \nL 43.21875 35.40625 \nQ 43.21875 41.609375 39.140625 45 \nQ 35.0625 48.390625 27.6875 48.390625 \nQ 23 48.390625 18.546875 47.265625 \nQ 14.109375 46.140625 10.015625 43.890625 \nL 10.015625 52.203125 \nQ 14.9375 54.109375 19.578125 55.046875 \nQ 24.21875 56 28.609375 56 \nQ 40.484375 56 46.34375 49.84375 \nQ 52.203125 43.703125 52.203125 31.203125 \nz\n\" id=\"DejaVuSans-61\"/>\n      <path d=\"M 18.3125 70.21875 \nL 18.3125 54.6875 \nL 36.8125 54.6875 \nL 36.8125 47.703125 \nL 18.3125 47.703125 \nL 18.3125 18.015625 \nQ 18.3125 11.328125 20.140625 9.421875 \nQ 21.96875 7.515625 27.59375 7.515625 \nL 36.8125 7.515625 \nL 36.8125 0 \nL 27.59375 0 \nQ 17.1875 0 13.234375 3.875 \nQ 9.28125 7.765625 9.28125 18.015625 \nL 9.28125 47.703125 \nL 2.6875 47.703125 \nL 2.6875 54.6875 \nL 9.28125 54.6875 \nL 9.28125 70.21875 \nz\n\" id=\"DejaVuSans-74\"/>\n      <path d=\"M 56.203125 29.59375 \nL 56.203125 25.203125 \nL 14.890625 25.203125 \nQ 15.484375 15.921875 20.484375 11.0625 \nQ 25.484375 6.203125 34.421875 6.203125 \nQ 39.59375 6.203125 44.453125 7.46875 \nQ 49.3125 8.734375 54.109375 11.28125 \nL 54.109375 2.78125 \nQ 49.265625 0.734375 44.1875 -0.34375 \nQ 39.109375 -1.421875 33.890625 -1.421875 \nQ 20.796875 -1.421875 13.15625 6.1875 \nQ 5.515625 13.8125 5.515625 26.8125 \nQ 5.515625 40.234375 12.765625 48.109375 \nQ 20.015625 56 32.328125 56 \nQ 43.359375 56 49.78125 48.890625 \nQ 56.203125 41.796875 56.203125 29.59375 \nz\nM 47.21875 32.234375 \nQ 47.125 39.59375 43.09375 43.984375 \nQ 39.0625 48.390625 32.421875 48.390625 \nQ 24.90625 48.390625 20.390625 44.140625 \nQ 15.875 39.890625 15.1875 32.171875 \nz\n\" id=\"DejaVuSans-65\"/>\n     </defs>\n     <g transform=\"translate(191.4525 240.524725)scale(0.12 -0.12)\">\n      <use xlink:href=\"#DejaVuSans-64\"/>\n      <use x=\"63.476562\" xlink:href=\"#DejaVuSans-61\"/>\n      <use x=\"124.755859\" xlink:href=\"#DejaVuSans-74\"/>\n      <use x=\"163.964844\" xlink:href=\"#DejaVuSans-65\"/>\n     </g>\n    </g>\n   </g>\n   <g id=\"matplotlib.axis_2\">\n    <g id=\"ytick_1\">\n     <g id=\"line2d_1\">\n      <path clip-path=\"url(#p7f08b1ded1)\" d=\"M 17.0625 217.522964 \nL 392.9025 217.522964 \n\" style=\"fill:none;stroke:#cbcbcb;\"/>\n     </g>\n     <g id=\"line2d_2\"/>\n     <g id=\"text_2\">\n      <!-- 0 -->\n      <defs>\n       <path d=\"M 31.78125 66.40625 \nQ 24.171875 66.40625 20.328125 58.90625 \nQ 16.5 51.421875 16.5 36.375 \nQ 16.5 21.390625 20.328125 13.890625 \nQ 24.171875 6.390625 31.78125 6.390625 \nQ 39.453125 6.390625 43.28125 13.890625 \nQ 47.125 21.390625 47.125 36.375 \nQ 47.125 51.421875 43.28125 58.90625 \nQ 39.453125 66.40625 31.78125 66.40625 \nz\nM 31.78125 74.21875 \nQ 44.046875 74.21875 50.515625 64.515625 \nQ 56.984375 54.828125 56.984375 36.375 \nQ 56.984375 17.96875 50.515625 8.265625 \nQ 44.046875 -1.421875 31.78125 -1.421875 \nQ 19.53125 -1.421875 13.0625 8.265625 \nQ 6.59375 17.96875 6.59375 36.375 \nQ 6.59375 54.828125 13.0625 64.515625 \nQ 19.53125 74.21875 31.78125 74.21875 \nz\n\" id=\"DejaVuSans-30\"/>\n      </defs>\n      <g transform=\"translate(7.2 221.322182)scale(0.1 -0.1)\">\n       <use xlink:href=\"#DejaVuSans-30\"/>\n      </g>\n     </g>\n    </g>\n    <g id=\"ytick_2\">\n     <g id=\"line2d_3\">\n      <path clip-path=\"url(#p7f08b1ded1)\" d=\"M 17.0625 188.019572 \nL 392.9025 188.019572 \n\" style=\"fill:none;stroke:#cbcbcb;\"/>\n     </g>\n     <g id=\"line2d_4\"/>\n     <g id=\"text_3\">\n      <!-- 1 -->\n      <defs>\n       <path d=\"M 12.40625 8.296875 \nL 28.515625 8.296875 \nL 28.515625 63.921875 \nL 10.984375 60.40625 \nL 10.984375 69.390625 \nL 28.421875 72.90625 \nL 38.28125 72.90625 \nL 38.28125 8.296875 \nL 54.390625 8.296875 \nL 54.390625 0 \nL 12.40625 0 \nz\n\" id=\"DejaVuSans-31\"/>\n      </defs>\n      <g transform=\"translate(7.2 191.81879)scale(0.1 -0.1)\">\n       <use xlink:href=\"#DejaVuSans-31\"/>\n      </g>\n     </g>\n    </g>\n    <g id=\"ytick_3\">\n     <g id=\"line2d_5\">\n      <path clip-path=\"url(#p7f08b1ded1)\" d=\"M 17.0625 158.516179 \nL 392.9025 158.516179 \n\" style=\"fill:none;stroke:#cbcbcb;\"/>\n     </g>\n     <g id=\"line2d_6\"/>\n     <g id=\"text_4\">\n      <!-- 2 -->\n      <defs>\n       <path d=\"M 19.1875 8.296875 \nL 53.609375 8.296875 \nL 53.609375 0 \nL 7.328125 0 \nL 7.328125 8.296875 \nQ 12.9375 14.109375 22.625 23.890625 \nQ 32.328125 33.6875 34.8125 36.53125 \nQ 39.546875 41.84375 41.421875 45.53125 \nQ 43.3125 49.21875 43.3125 52.78125 \nQ 43.3125 58.59375 39.234375 62.25 \nQ 35.15625 65.921875 28.609375 65.921875 \nQ 23.96875 65.921875 18.8125 64.3125 \nQ 13.671875 62.703125 7.8125 59.421875 \nL 7.8125 69.390625 \nQ 13.765625 71.78125 18.9375 73 \nQ 24.125 74.21875 28.421875 74.21875 \nQ 39.75 74.21875 46.484375 68.546875 \nQ 53.21875 62.890625 53.21875 53.421875 \nQ 53.21875 48.921875 51.53125 44.890625 \nQ 49.859375 40.875 45.40625 35.40625 \nQ 44.1875 33.984375 37.640625 27.21875 \nQ 31.109375 20.453125 19.1875 8.296875 \nz\n\" id=\"DejaVuSans-32\"/>\n      </defs>\n      <g transform=\"translate(7.2 162.315398)scale(0.1 -0.1)\">\n       <use xlink:href=\"#DejaVuSans-32\"/>\n      </g>\n     </g>\n    </g>\n    <g id=\"ytick_4\">\n     <g id=\"line2d_7\">\n      <path clip-path=\"url(#p7f08b1ded1)\" d=\"M 17.0625 129.012787 \nL 392.9025 129.012787 \n\" style=\"fill:none;stroke:#cbcbcb;\"/>\n     </g>\n     <g id=\"line2d_8\"/>\n     <g id=\"text_5\">\n      <!-- 3 -->\n      <defs>\n       <path d=\"M 40.578125 39.3125 \nQ 47.65625 37.796875 51.625 33 \nQ 55.609375 28.21875 55.609375 21.1875 \nQ 55.609375 10.40625 48.1875 4.484375 \nQ 40.765625 -1.421875 27.09375 -1.421875 \nQ 22.515625 -1.421875 17.65625 -0.515625 \nQ 12.796875 0.390625 7.625 2.203125 \nL 7.625 11.71875 \nQ 11.71875 9.328125 16.59375 8.109375 \nQ 21.484375 6.890625 26.8125 6.890625 \nQ 36.078125 6.890625 40.9375 10.546875 \nQ 45.796875 14.203125 45.796875 21.1875 \nQ 45.796875 27.640625 41.28125 31.265625 \nQ 36.765625 34.90625 28.71875 34.90625 \nL 20.21875 34.90625 \nL 20.21875 43.015625 \nL 29.109375 43.015625 \nQ 36.375 43.015625 40.234375 45.921875 \nQ 44.09375 48.828125 44.09375 54.296875 \nQ 44.09375 59.90625 40.109375 62.90625 \nQ 36.140625 65.921875 28.71875 65.921875 \nQ 24.65625 65.921875 20.015625 65.03125 \nQ 15.375 64.15625 9.8125 62.3125 \nL 9.8125 71.09375 \nQ 15.4375 72.65625 20.34375 73.4375 \nQ 25.25 74.21875 29.59375 74.21875 \nQ 40.828125 74.21875 47.359375 69.109375 \nQ 53.90625 64.015625 53.90625 55.328125 \nQ 53.90625 49.265625 50.4375 45.09375 \nQ 46.96875 40.921875 40.578125 39.3125 \nz\n\" id=\"DejaVuSans-33\"/>\n      </defs>\n      <g transform=\"translate(7.2 132.812006)scale(0.1 -0.1)\">\n       <use xlink:href=\"#DejaVuSans-33\"/>\n      </g>\n     </g>\n    </g>\n    <g id=\"ytick_5\">\n     <g id=\"line2d_9\">\n      <path clip-path=\"url(#p7f08b1ded1)\" d=\"M 17.0625 99.509395 \nL 392.9025 99.509395 \n\" style=\"fill:none;stroke:#cbcbcb;\"/>\n     </g>\n     <g id=\"line2d_10\"/>\n     <g id=\"text_6\">\n      <!-- 4 -->\n      <defs>\n       <path d=\"M 37.796875 64.3125 \nL 12.890625 25.390625 \nL 37.796875 25.390625 \nz\nM 35.203125 72.90625 \nL 47.609375 72.90625 \nL 47.609375 25.390625 \nL 58.015625 25.390625 \nL 58.015625 17.1875 \nL 47.609375 17.1875 \nL 47.609375 0 \nL 37.796875 0 \nL 37.796875 17.1875 \nL 4.890625 17.1875 \nL 4.890625 26.703125 \nz\n\" id=\"DejaVuSans-34\"/>\n      </defs>\n      <g transform=\"translate(7.2 103.308614)scale(0.1 -0.1)\">\n       <use xlink:href=\"#DejaVuSans-34\"/>\n      </g>\n     </g>\n    </g>\n    <g id=\"ytick_6\">\n     <g id=\"line2d_11\">\n      <path clip-path=\"url(#p7f08b1ded1)\" d=\"M 17.0625 70.006003 \nL 392.9025 70.006003 \n\" style=\"fill:none;stroke:#cbcbcb;\"/>\n     </g>\n     <g id=\"line2d_12\"/>\n     <g id=\"text_7\">\n      <!-- 5 -->\n      <defs>\n       <path d=\"M 10.796875 72.90625 \nL 49.515625 72.90625 \nL 49.515625 64.59375 \nL 19.828125 64.59375 \nL 19.828125 46.734375 \nQ 21.96875 47.46875 24.109375 47.828125 \nQ 26.265625 48.1875 28.421875 48.1875 \nQ 40.625 48.1875 47.75 41.5 \nQ 54.890625 34.8125 54.890625 23.390625 \nQ 54.890625 11.625 47.5625 5.09375 \nQ 40.234375 -1.421875 26.90625 -1.421875 \nQ 22.3125 -1.421875 17.546875 -0.640625 \nQ 12.796875 0.140625 7.71875 1.703125 \nL 7.71875 11.625 \nQ 12.109375 9.234375 16.796875 8.0625 \nQ 21.484375 6.890625 26.703125 6.890625 \nQ 35.15625 6.890625 40.078125 11.328125 \nQ 45.015625 15.765625 45.015625 23.390625 \nQ 45.015625 31 40.078125 35.4375 \nQ 35.15625 39.890625 26.703125 39.890625 \nQ 22.75 39.890625 18.8125 39.015625 \nQ 14.890625 38.140625 10.796875 36.28125 \nz\n\" id=\"DejaVuSans-35\"/>\n      </defs>\n      <g transform=\"translate(7.2 73.805222)scale(0.1 -0.1)\">\n       <use xlink:href=\"#DejaVuSans-35\"/>\n      </g>\n     </g>\n    </g>\n    <g id=\"ytick_7\">\n     <g id=\"line2d_13\">\n      <path clip-path=\"url(#p7f08b1ded1)\" d=\"M 17.0625 40.502611 \nL 392.9025 40.502611 \n\" style=\"fill:none;stroke:#cbcbcb;\"/>\n     </g>\n     <g id=\"line2d_14\"/>\n     <g id=\"text_8\">\n      <!-- 6 -->\n      <defs>\n       <path d=\"M 33.015625 40.375 \nQ 26.375 40.375 22.484375 35.828125 \nQ 18.609375 31.296875 18.609375 23.390625 \nQ 18.609375 15.53125 22.484375 10.953125 \nQ 26.375 6.390625 33.015625 6.390625 \nQ 39.65625 6.390625 43.53125 10.953125 \nQ 47.40625 15.53125 47.40625 23.390625 \nQ 47.40625 31.296875 43.53125 35.828125 \nQ 39.65625 40.375 33.015625 40.375 \nz\nM 52.59375 71.296875 \nL 52.59375 62.3125 \nQ 48.875 64.0625 45.09375 64.984375 \nQ 41.3125 65.921875 37.59375 65.921875 \nQ 27.828125 65.921875 22.671875 59.328125 \nQ 17.53125 52.734375 16.796875 39.40625 \nQ 19.671875 43.65625 24.015625 45.921875 \nQ 28.375 48.1875 33.59375 48.1875 \nQ 44.578125 48.1875 50.953125 41.515625 \nQ 57.328125 34.859375 57.328125 23.390625 \nQ 57.328125 12.15625 50.6875 5.359375 \nQ 44.046875 -1.421875 33.015625 -1.421875 \nQ 20.359375 -1.421875 13.671875 8.265625 \nQ 6.984375 17.96875 6.984375 36.375 \nQ 6.984375 53.65625 15.1875 63.9375 \nQ 23.390625 74.21875 37.203125 74.21875 \nQ 40.921875 74.21875 44.703125 73.484375 \nQ 48.484375 72.75 52.59375 71.296875 \nz\n\" id=\"DejaVuSans-36\"/>\n      </defs>\n      <g transform=\"translate(7.2 44.30183)scale(0.1 -0.1)\">\n       <use xlink:href=\"#DejaVuSans-36\"/>\n      </g>\n     </g>\n    </g>\n    <g id=\"ytick_8\">\n     <g id=\"line2d_15\">\n      <path clip-path=\"url(#p7f08b1ded1)\" d=\"M 17.0625 10.999219 \nL 392.9025 10.999219 \n\" style=\"fill:none;stroke:#cbcbcb;\"/>\n     </g>\n     <g id=\"line2d_16\"/>\n     <g id=\"text_9\">\n      <!-- 7 -->\n      <defs>\n       <path d=\"M 8.203125 72.90625 \nL 55.078125 72.90625 \nL 55.078125 68.703125 \nL 28.609375 0 \nL 18.3125 0 \nL 43.21875 64.59375 \nL 8.203125 64.59375 \nz\n\" id=\"DejaVuSans-37\"/>\n      </defs>\n      <g transform=\"translate(7.2 14.798438)scale(0.1 -0.1)\">\n       <use xlink:href=\"#DejaVuSans-37\"/>\n      </g>\n     </g>\n    </g>\n   </g>\n   <g id=\"line2d_17\">\n    <path clip-path=\"url(#p7f08b1ded1)\" d=\"M 17.399727 216.932896 \nL 17.568341 196.870589 \nL 17.736955 213.097455 \nL 17.905569 216.047794 \nL 18.074182 164.711892 \nM 18.41141 181.528825 \nL 18.580024 174.743045 \nL 18.748637 154.090671 \nL 18.917251 150.25523 \nL 19.085865 215.162692 \nL 19.254478 154.090671 \nL 19.423092 215.75276 \nL 19.591706 217.522964 \nL 19.928933 211.327251 \nL 20.097547 215.162692 \nL 20.266161 214.277591 \nL 20.434775 217.522964 \nL 20.603388 216.342828 \nL 20.772002 216.637862 \nL 20.940616 217.22793 \nL 21.109229 216.932896 \nL 21.277843 217.522964 \nL 21.446457 217.522964 \nL 21.615071 212.212353 \nL 21.783684 213.982557 \nL 21.952298 217.522964 \nM 22.289526 216.932896 \nL 22.458139 217.522964 \nL 22.626753 217.22793 \nL 22.795367 213.392489 \nL 22.96398 156.450942 \nL 23.132594 213.392489 \nL 23.301208 199.820928 \nL 23.469822 213.392489 \nL 23.638435 212.507387 \nL 23.807049 207.196776 \nL 23.975663 216.342828 \nM 24.31289 217.522964 \nL 24.481504 190.969911 \nL 24.650118 217.522964 \nL 24.818731 217.522964 \nL 24.987345 216.932896 \nL 25.155959 217.522964 \nL 25.324573 216.047794 \nL 25.493186 217.522964 \nL 25.6618 217.522964 \nM 26.336255 210.147116 \nL 26.504869 213.687523 \nL 26.673483 214.572624 \nL 26.842096 210.44215 \nL 27.01071 217.522964 \nL 27.179324 217.22793 \nL 27.347937 217.522964 \nM 27.685165 216.932896 \nL 27.853779 217.522964 \nL 28.022392 211.917319 \nM 28.35962 216.637862 \nL 28.528234 217.22793 \nM 28.865461 216.932896 \nL 29.034075 217.522964 \nL 29.202688 215.162692 \nL 29.371302 217.522964 \nL 29.539916 213.982557 \nL 29.70853 215.457726 \nL 29.877143 188.019572 \nL 30.045757 216.637862 \nL 30.214371 195.690453 \nL 30.382985 216.637862 \nL 30.551598 213.392489 \nL 30.720212 204.541471 \nL 30.888826 214.277591 \nM 31.563281 216.637862 \nL 31.731894 212.212353 \nL 31.900508 188.019572 \nL 32.069122 216.637862 \nL 32.237736 214.277591 \nL 32.406349 216.047794 \nM 32.743577 216.342828 \nL 32.91219 214.572624 \nL 33.080804 214.277591 \nL 33.249418 216.047794 \nL 33.418032 177.693384 \nL 33.586645 212.802421 \nL 33.755259 210.737183 \nL 33.923873 217.22793 \nL 34.092487 213.097455 \nL 34.2611 217.22793 \nL 34.429714 215.457726 \nM 34.766941 217.522964 \nL 34.935555 211.032217 \nL 35.104169 216.637862 \nM 35.441396 212.802421 \nL 35.61001 207.196776 \nL 35.778624 217.22793 \nL 35.947238 210.737183 \nL 36.115851 208.96698 \nL 36.284465 217.522964 \nL 36.453079 213.392489 \nL 36.621692 183.299029 \nL 36.790306 217.22793 \nL 37.127534 213.982557 \nL 37.296147 199.820928 \nL 37.633375 216.047794 \nL 37.801989 212.212353 \nM 38.476443 217.522964 \nL 38.645057 216.342828 \nL 38.813671 208.376912 \nL 38.982285 213.097455 \nL 39.150898 182.118893 \nL 39.319512 203.951403 \nL 39.488126 208.081878 \nL 39.65674 206.606709 \nL 39.825353 207.49181 \nM 40.162581 216.932896 \nL 40.331194 163.236722 \nL 40.499808 19.850236 \nL 40.668422 148.78006 \nM 41.005649 190.969911 \nL 41.174263 178.578486 \nL 41.342877 182.413927 \nL 41.511491 212.507387 \nM 41.848718 205.131539 \nL 42.017332 118.6866 \nL 42.185945 213.982557 \nL 42.354559 215.457726 \nL 42.523173 193.035148 \nL 42.691787 215.457726 \nL 42.8604 217.22793 \nL 43.029014 217.22793 \nL 43.197628 215.75276 \nL 43.366242 215.75276 \nL 43.534855 217.522964 \nL 43.703469 199.525894 \nL 44.040697 217.522964 \nL 44.20931 216.047794 \nL 44.377924 216.342828 \nL 44.715151 205.131539 \nL 44.883765 217.522964 \nL 45.052379 216.342828 \nL 45.220993 217.522964 \nL 45.389606 215.457726 \nL 45.55822 216.047794 \nL 45.726834 217.522964 \nM 46.064061 217.22793 \nL 46.232675 210.147116 \nL 46.401289 217.22793 \nM 46.738516 217.522964 \nL 46.90713 216.342828 \nL 47.244357 204.836505 \nL 47.412971 217.522964 \nL 47.581585 214.867658 \nL 47.750199 210.147116 \nL 47.918812 215.75276 \nL 48.087426 215.457726 \nL 48.25604 217.522964 \nL 48.424653 217.522964 \nL 48.593267 216.932896 \nL 48.761881 187.429504 \nL 48.930495 195.39542 \nL 49.099108 217.22793 \nL 49.267722 216.932896 \nL 49.60495 207.49181 \nL 49.773563 214.867658 \nL 49.942177 215.75276 \nL 50.110791 207.786844 \nL 50.448018 217.522964 \nL 50.616632 213.097455 \nL 50.785246 217.522964 \nL 50.953859 217.522964 \nL 51.122473 189.789775 \nL 51.291087 217.522964 \nL 51.459701 209.557048 \nL 51.628314 217.522964 \nL 51.965542 217.522964 \nL 52.134155 217.22793 \nL 52.471383 216.342828 \nL 52.639997 217.522964 \nL 52.80861 217.522964 \nL 52.977224 216.932896 \nL 53.145838 217.522964 \nL 53.314452 207.49181 \nL 53.483065 215.75276 \nL 53.651679 215.75276 \nL 53.820293 187.429504 \nM 54.15752 212.507387 \nL 54.326134 216.932896 \nL 54.494748 216.047794 \nL 54.663361 212.507387 \nL 54.831975 213.982557 \nL 55.000589 188.019572 \nL 55.169203 216.932896 \nL 55.337816 217.522964 \nL 56.180885 217.522964 \nL 56.349499 215.162692 \nL 56.518112 216.047794 \nL 56.686726 211.622285 \nL 56.85534 216.342828 \nL 57.023954 203.066302 \nL 57.192567 217.522964 \nL 57.361181 212.212353 \nL 57.529795 173.562909 \nL 57.867022 210.147116 \nL 58.035636 213.097455 \nM 58.372863 206.311675 \nL 58.541477 217.522964 \nL 58.710091 208.376912 \nL 58.878705 215.75276 \nL 59.047318 217.522964 \nL 59.215932 213.392489 \nL 59.384546 213.392489 \nL 59.553159 215.162692 \nL 59.721773 215.457726 \nL 59.890387 187.429504 \nL 60.059001 215.75276 \nL 60.396228 217.522964 \nL 60.564842 217.522964 \nL 60.733456 199.525894 \nL 60.902069 216.637862 \nL 61.070683 216.342828 \nM 61.40791 217.522964 \nL 61.576524 217.522964 \nL 61.745138 203.951403 \nL 62.082365 216.637862 \nL 62.250979 217.522964 \nL 62.419593 216.637862 \nL 62.588207 217.522964 \nL 62.75682 217.522964 \nL 62.925434 115.441227 \nM 63.262662 217.522964 \nL 63.599889 217.522964 \nM 63.937116 193.625216 \nL 64.10573 217.22793 \nL 64.274344 217.522964 \nL 64.442958 217.522964 \nL 64.611571 216.342828 \nL 64.780185 217.522964 \nL 64.948799 215.457726 \nL 65.117413 217.522964 \nL 65.286026 217.522964 \nL 65.45464 216.047794 \nL 65.623254 217.522964 \nL 65.791867 217.522964 \nM 66.129095 217.522964 \nL 66.466322 217.522964 \nL 66.634936 217.22793 \nL 66.80355 217.522964 \nL 67.140777 217.522964 \nL 67.309391 216.342828 \nL 67.478005 217.522964 \nL 68.658301 217.522964 \nM 68.995528 217.522964 \nL 69.501369 217.522964 \nL 69.669983 207.196776 \nM 70.007211 217.522964 \nL 70.175824 216.932896 \nL 70.344438 217.522964 \nL 70.513052 209.262014 \nL 70.681666 216.342828 \nL 70.850279 216.637862 \nL 71.018893 217.522964 \nL 71.187507 217.522964 \nL 71.524734 216.637862 \nL 71.693348 217.522964 \nL 72.367803 217.522964 \nL 72.536417 215.75276 \nM 72.873644 216.932896 \nL 73.042258 217.522964 \nL 73.885326 217.522964 \nL 74.05394 207.786844 \nL 74.222554 216.932896 \nL 74.391168 217.522964 \nL 74.559781 217.522964 \nL 74.728395 216.342828 \nL 74.897009 217.522964 \nL 75.740077 217.522964 \nL 75.908691 216.637862 \nL 76.077305 206.311675 \nL 76.245919 217.22793 \nL 76.414532 213.982557 \nM 77.426215 216.932896 \nL 77.594828 203.361335 \nL 77.763442 216.637862 \nL 77.932056 216.047794 \nL 78.269283 217.522964 \nL 78.437897 217.522964 \nL 78.606511 215.75276 \nL 78.775124 217.522964 \nL 78.943738 217.522964 \nM 79.280966 214.277591 \nL 79.449579 188.019572 \nL 79.618193 217.522964 \nL 79.786807 217.522964 \nL 79.955421 217.22793 \nM 80.629876 217.522964 \nL 80.798489 214.867658 \nL 80.967103 216.637862 \nL 81.135717 213.097455 \nM 81.472944 216.047794 \nL 81.641558 177.103316 \nL 81.810172 213.097455 \nL 81.978785 214.572624 \nL 82.147399 217.522964 \nL 82.484627 210.44215 \nL 82.65324 217.22793 \nL 82.821854 217.522964 \nM 83.159081 217.22793 \nL 83.327695 216.932896 \nM 83.664923 217.522964 \nL 83.833536 215.162692 \nL 84.00215 217.522964 \nL 84.170764 217.522964 \nL 84.339378 217.22793 \nL 84.507991 196.870589 \nL 84.676605 216.637862 \nL 84.845219 205.721607 \nL 85.013832 217.522964 \nL 85.182446 214.277591 \nL 85.35106 216.342828 \nL 85.519674 213.982557 \nL 85.688287 205.721607 \nL 85.856901 215.75276 \nL 86.025515 217.522964 \nL 86.194129 217.522964 \nL 86.362742 217.22793 \nL 86.531356 211.622285 \nL 86.69997 216.932896 \nL 86.868583 211.622285 \nL 87.037197 180.643723 \nL 87.205811 214.277591 \nL 87.374425 217.522964 \nM 87.711652 211.032217 \nL 87.880266 215.162692 \nL 88.04888 215.75276 \nM 88.386107 206.606709 \nL 88.554721 215.457726 \nL 88.723334 217.522964 \nL 88.891948 216.047794 \nL 89.060562 216.932896 \nL 89.229176 209.852082 \nL 89.397789 217.522964 \nL 89.566403 210.147116 \nL 89.903631 216.932896 \nL 90.072244 217.22793 \nL 90.240858 212.802421 \nL 90.409472 213.392489 \nL 90.578085 217.522964 \nL 90.746699 214.572624 \nL 90.915313 189.494741 \nL 91.083927 210.44215 \nL 91.25254 216.637862 \nL 91.421154 216.637862 \nM 91.758382 217.522964 \nL 91.926995 213.687523 \nL 92.095609 215.457726 \nL 92.264223 177.693384 \nL 92.432836 214.572624 \nL 92.60145 217.22793 \nL 92.770064 217.522964 \nL 92.938678 217.522964 \nL 93.107291 217.22793 \nL 93.275905 214.867658 \nL 93.444519 217.522964 \nL 93.613133 217.522964 \nL 93.781746 216.342828 \nL 93.95036 217.522964 \nL 94.793429 217.522964 \nL 94.962042 216.932896 \nL 95.130656 217.522964 \nL 95.636497 217.522964 \nL 95.805111 215.75276 \nL 95.973725 217.522964 \nL 96.310952 217.522964 \nM 96.64818 206.311675 \nL 96.816793 216.637862 \nL 96.985407 217.522964 \nL 97.154021 217.522964 \nL 97.322635 216.932896 \nL 97.659862 216.932896 \nL 97.828476 217.522964 \nL 97.99709 217.522964 \nL 98.165703 216.047794 \nL 98.334317 217.522964 \nL 98.502931 217.22793 \nL 98.671544 217.522964 \nL 99.008772 217.522964 \nL 99.177386 213.687523 \nL 99.514613 217.522964 \nM 99.851841 211.327251 \nL 100.020454 215.457726 \nL 100.189068 213.097455 \nL 100.357682 213.392489 \nL 100.526295 216.932896 \nL 100.694909 201.886166 \nL 100.863523 217.522964 \nL 101.20075 217.522964 \nL 101.369364 214.277591 \nL 101.706592 216.342828 \nL 101.875205 212.507387 \nL 102.043819 217.522964 \nL 102.54966 217.522964 \nL 102.718274 217.22793 \nL 102.886888 217.522964 \nL 105.921935 217.522964 \nL 106.090548 215.75276 \nL 106.427776 217.522964 \nL 106.765003 217.522964 \nL 106.933617 216.047794 \nL 107.102231 216.932896 \nL 107.270845 216.047794 \nM 107.608072 217.522964 \nL 108.282527 217.522964 \nL 108.451141 215.457726 \nL 108.619754 190.674877 \nL 108.788368 212.212353 \nL 108.956982 217.522964 \nL 109.294209 210.44215 \nM 109.631437 216.932896 \nL 109.968664 217.522964 \nL 110.137278 216.637862 \nM 110.474505 217.522964 \nL 110.643119 217.522964 \nL 110.811733 216.932896 \nL 110.980347 217.522964 \nL 111.14896 217.22793 \nM 111.486188 217.522964 \nL 111.654801 213.687523 \nL 111.823415 214.277591 \nL 111.992029 216.637862 \nL 112.160643 214.277591 \nL 112.329256 205.721607 \nL 112.49787 214.277591 \nL 112.666484 206.016641 \nM 113.340939 214.277591 \nL 113.509552 216.932896 \nL 113.678166 217.22793 \nL 113.84678 132.848228 \nL 114.015394 215.457726 \nL 114.184007 208.376912 \nM 114.858462 157.04101 \nL 115.027076 155.270806 \nL 115.19569 213.687523 \nL 115.364303 210.147116 \nL 115.532917 216.637862 \nL 115.870145 211.032217 \nL 116.038758 216.637862 \nM 116.375986 211.622285 \nL 116.5446 196.280521 \nL 116.713213 216.047794 \nL 117.050441 208.671946 \nL 117.219055 216.047794 \nL 117.387668 187.13447 \nM 117.724896 216.047794 \nL 118.062123 214.277591 \nL 118.230737 208.671946 \nL 118.399351 215.75276 \nL 118.567964 216.932896 \nL 118.736578 216.637862 \nL 118.905192 216.047794 \nL 119.073806 216.047794 \nL 119.242419 215.75276 \nL 119.411033 208.96698 \nL 119.74826 217.522964 \nL 119.916874 216.637862 \nL 120.085488 217.522964 \nL 120.254102 217.522964 \nL 120.422715 197.165623 \nL 120.591329 217.522964 \nL 120.759943 216.932896 \nL 120.928557 217.22793 \nM 121.265784 217.522964 \nL 121.434398 216.342828 \nL 121.603011 211.622285 \nL 121.771625 214.867658 \nL 122.108853 216.342828 \nM 122.44608 217.522964 \nL 122.614694 213.392489 \nL 122.783308 216.047794 \nL 122.951921 216.637862 \nL 123.120535 216.047794 \nM 123.457762 217.522964 \nL 123.626376 194.215284 \nL 123.79499 212.802421 \nL 123.963604 213.982557 \nL 124.132217 196.280521 \nL 124.300831 206.606709 \nM 124.638059 215.457726 \nL 124.806672 207.786844 \nL 124.975286 217.22793 \nL 125.1439 207.196776 \nL 125.312513 208.671946 \nL 125.481127 205.721607 \nL 125.649741 216.637862 \nL 125.818355 180.053656 \nM 126.155582 216.932896 \nL 126.324196 194.805352 \nL 126.49281 217.522964 \nL 126.661423 216.342828 \nL 126.830037 169.727468 \nL 126.998651 209.852082 \nL 127.167264 217.522964 \nL 127.335878 216.637862 \nL 127.504492 208.081878 \nL 127.673106 214.572624 \nL 127.841719 208.376912 \nL 128.010333 216.342828 \nM 128.347561 204.836505 \nL 128.516174 211.032217 \nL 128.684788 207.49181 \nL 128.853402 211.622285 \nL 129.022015 170.317536 \nL 129.359243 216.932896 \nL 129.527857 216.932896 \nL 129.69647 217.522964 \nL 130.033698 217.522964 \nM 130.370925 213.982557 \nL 130.539539 217.522964 \nM 131.04538 215.457726 \nL 131.213994 216.932896 \nL 131.382608 212.507387 \nL 131.551221 216.932896 \nL 131.719835 216.637862 \nL 131.888449 216.637862 \nL 132.057063 209.557048 \nL 132.225676 215.457726 \nL 132.39429 217.22793 \nL 132.562904 216.637862 \nL 132.731517 209.852082 \nM 133.068745 208.376912 \nL 133.237359 207.49181 \nL 133.574586 202.1812 \nL 133.7432 216.932896 \nM 134.080427 216.932896 \nL 134.417655 216.047794 \nL 134.586269 217.522964 \nL 134.754882 216.932896 \nL 134.923496 217.522964 \nL 135.09211 215.75276 \nL 135.260723 216.342828 \nL 135.429337 213.687523 \nL 135.597951 217.22793 \nL 135.766565 217.522964 \nL 135.935178 216.932896 \nL 136.103792 217.522964 \nL 136.272406 217.22793 \nM 136.946861 207.49181 \nL 137.284088 216.342828 \nL 137.452702 214.867658 \nL 137.621316 214.572624 \nL 137.789929 216.047794 \nL 137.958543 213.982557 \nL 138.127157 190.379843 \nM 138.464384 216.047794 \nL 138.632998 216.637862 \nL 138.801612 216.047794 \nL 138.970225 207.786844 \nL 139.138839 216.637862 \nL 139.307453 215.457726 \nL 139.476067 217.522964 \nL 139.64468 217.522964 \nM 139.981908 216.932896 \nL 140.150522 213.392489 \nL 140.319135 217.522964 \nL 140.487749 217.522964 \nL 140.656363 217.22793 \nL 140.824976 216.637862 \nL 140.99359 217.522964 \nL 141.162204 217.522964 \nM 141.499431 217.522964 \nL 141.668045 212.802421 \nL 142.173886 217.22793 \nM 142.511114 213.687523 \nL 142.679727 216.342828 \nL 142.848341 208.96698 \nL 143.016955 209.557048 \nL 143.354182 217.522964 \nL 143.522796 216.637862 \nL 143.69141 217.22793 \nM 144.028637 213.097455 \nL 144.197251 211.327251 \nL 144.365865 216.932896 \nL 144.534478 217.522964 \nL 144.703092 217.522964 \nL 144.871706 216.932896 \nL 145.04032 217.522964 \nL 145.208933 217.22793 \nM 145.546161 217.522964 \nL 146.052002 214.867658 \nL 146.220616 215.75276 \nL 146.389229 214.277591 \nL 146.557843 217.522964 \nL 146.895071 192.150046 \nL 147.063684 213.392489 \nL 147.232298 180.938757 \nL 147.400912 212.507387 \nL 147.569526 216.047794 \nM 147.906753 217.22793 \nL 148.075367 210.44215 \nL 148.24398 216.637862 \nM 148.581208 216.932896 \nL 148.749822 214.572624 \nL 148.918435 193.035148 \nL 149.087049 217.22793 \nL 149.255663 215.75276 \nL 149.424277 211.622285 \nL 149.59289 213.392489 \nL 149.761504 217.22793 \nL 149.930118 185.6593 \nL 150.098731 213.687523 \nL 150.267345 217.522964 \nL 150.435959 217.522964 \nL 150.604573 216.637862 \nL 150.773186 206.311675 \nL 150.9418 216.932896 \nL 151.110414 209.852082 \nL 151.279028 216.932896 \nL 151.447641 211.032217 \nM 151.784869 173.857943 \nL 151.953483 215.75276 \nL 152.122096 216.932896 \nL 152.29071 216.047794 \nL 152.459324 217.522964 \nL 152.627937 213.392489 \nL 152.796551 217.522964 \nL 152.965165 216.637862 \nL 153.302392 217.22793 \nL 153.63962 213.392489 \nL 153.808234 215.75276 \nM 154.145461 214.867658 \nL 154.314075 216.342828 \nL 154.482688 187.13447 \nL 154.651302 216.047794 \nL 154.819916 212.212353 \nL 154.98853 201.001064 \nL 155.157143 202.1812 \nM 155.662985 211.327251 \nL 155.831598 208.96698 \nL 156.000212 215.457726 \nL 156.168826 147.599924 \nL 156.337439 213.982557 \nL 156.506053 208.96698 \nL 156.674667 210.147116 \nL 156.843281 199.230861 \nL 157.011894 206.901742 \nL 157.180508 190.969911 \nL 157.349122 217.22793 \nL 157.517736 217.522964 \nL 157.686349 216.637862 \nL 157.854963 216.637862 \nM 158.19219 217.522964 \nL 158.360804 208.96698 \nL 158.529418 217.522964 \nL 158.698032 217.522964 \nL 158.866645 217.22793 \nL 159.035259 217.22793 \nL 159.203873 217.522964 \nL 159.709714 217.522964 \nM 160.046941 217.522964 \nL 160.215555 217.522964 \nL 160.384169 212.212353 \nL 160.552783 217.522964 \nL 161.564465 217.522964 \nL 161.733079 205.131539 \nL 161.901692 215.75276 \nL 162.070306 203.656369 \nL 162.23892 217.522964 \nL 162.407534 214.572624 \nL 162.576147 217.522964 \nL 162.744761 217.22793 \nL 162.913375 214.572624 \nL 163.081989 200.115962 \nL 163.250602 217.522964 \nL 163.58783 217.522964 \nL 163.756443 215.75276 \nL 163.925057 217.522964 \nL 164.768126 217.522964 \nL 164.93674 216.637862 \nL 165.105353 216.637862 \nL 165.273967 217.522964 \nL 165.442581 217.522964 \nM 165.779808 217.522964 \nL 166.960104 217.522964 \nM 167.297332 217.522964 \nL 167.803173 217.522964 \nM 168.1404 217.522964 \nL 168.814855 217.522964 \nM 169.152083 217.522964 \nL 169.320697 217.522964 \nM 169.657924 217.522964 \nL 169.826538 217.522964 \nM 170.163765 217.522964 \nL 170.500993 217.522964 \nM 170.83822 217.522964 \nL 171.006834 217.22793 \nL 171.175448 217.522964 \nL 171.512675 217.522964 \nM 171.849902 217.522964 \nL 172.18713 217.522964 \nL 172.355744 217.22793 \nL 172.524357 217.522964 \nL 172.861585 217.522964 \nM 173.198812 217.522964 \nL 174.547722 217.522964 \nL 174.716336 215.457726 \nL 174.88495 217.522964 \nL 175.390791 217.522964 \nM 175.728018 217.522964 \nL 175.896632 216.932896 \nL 176.065246 217.522964 \nM 176.402473 217.522964 \nL 176.908314 217.522964 \nM 177.245542 217.522964 \nL 177.919997 217.522964 \nL 178.08861 215.162692 \nL 178.257224 216.932896 \nL 178.594452 216.342828 \nL 178.763065 214.277591 \nL 178.931679 217.522964 \nL 179.100293 216.342828 \nL 179.268906 196.280521 \nL 179.43752 214.867658 \nL 179.606134 212.802421 \nL 179.774748 217.22793 \nL 179.943361 217.22793 \nL 180.111975 217.522964 \nM 180.78643 217.522964 \nL 181.123657 213.687523 \nL 181.292271 213.097455 \nM 181.629499 216.342828 \nL 181.798112 162.941688 \nL 181.966726 215.162692 \nL 182.13534 213.982557 \nM 182.472567 216.637862 \nL 182.641181 217.522964 \nL 182.809795 194.215284 \nL 182.978408 139.634008 \nM 183.315636 217.522964 \nL 183.48425 217.22793 \nL 183.652863 217.522964 \nL 183.821477 217.522964 \nL 183.990091 214.572624 \nL 184.158705 217.522964 \nL 184.664546 217.522964 \nL 184.833159 216.637862 \nL 185.001773 217.522964 \nL 185.170387 216.637862 \nL 185.339001 217.522964 \nL 186.013456 217.522964 \nL 186.182069 213.392489 \nL 186.350683 217.522964 \nL 186.856524 201.296098 \nM 187.193752 217.522964 \nL 187.699593 217.522964 \nL 187.868207 216.047794 \nM 188.205434 217.522964 \nL 193.095232 217.522964 \nM 193.43246 217.522964 \nL 193.938301 217.522964 \nM 194.275528 217.522964 \nL 195.118597 217.522964 \nM 195.455824 212.212353 \nL 195.624438 212.802421 \nL 195.793052 216.342828 \nL 195.961666 217.522964 \nL 196.130279 164.416858 \nL 196.298893 164.711892 \nL 196.467507 217.522964 \nL 196.973348 178.578486 \nL 197.141962 185.6593 \nL 197.310575 217.522964 \nL 198.153644 217.522964 \nL 198.322258 185.6593 \nL 198.490871 217.522964 \nL 198.659485 216.932896 \nL 198.828099 217.522964 \nL 200.68285 217.522964 \nL 201.020077 166.482095 \nL 201.357305 208.376912 \nL 201.694532 68.825867 \nL 201.863146 163.531756 \nL 202.03176 140.224076 \nL 202.200373 215.457726 \nL 202.368987 129.602855 \nL 202.874828 217.522964 \nL 203.043442 217.522964 \nL 203.212056 131.963126 \nL 203.38067 217.22793 \nL 203.549283 217.522964 \nM 203.886511 217.22793 \nL 204.055124 217.522964 \nL 204.729579 217.522964 \nL 204.898193 217.22793 \nL 205.066807 215.457726 \nL 205.235421 217.22793 \nL 205.404034 217.522964 \nM 205.741262 217.522964 \nL 205.909876 217.522964 \nM 206.247103 213.687523 \nL 206.415717 215.457726 \nL 206.58433 195.985487 \nL 206.752944 217.522964 \nL 206.921558 199.230861 \nL 207.090172 197.755691 \nM 207.427399 215.75276 \nL 207.596013 213.687523 \nL 207.764627 193.92025 \nL 207.93324 215.75276 \nL 208.101854 217.522964 \nL 208.439081 217.522964 \nL 208.607695 217.22793 \nM 208.944923 217.522964 \nL 209.450764 217.522964 \nL 209.619378 214.867658 \nL 209.787991 214.572624 \nL 209.956605 217.522964 \nL 210.125219 217.522964 \nM 210.462446 217.522964 \nL 210.63106 217.522964 \nM 210.968287 217.522964 \nL 211.136901 217.522964 \nL 211.305515 215.457726 \nL 211.474129 215.75276 \nL 211.642742 217.522964 \nM 211.97997 214.277591 \nL 212.148583 215.75276 \nL 212.317197 215.75276 \nL 212.485811 212.507387 \nL 212.654425 215.75276 \nL 212.823038 208.081878 \nL 213.160266 217.522964 \nL 213.32888 217.22793 \nL 213.497493 217.522964 \nL 215.352244 217.522964 \nL 215.520858 213.982557 \nL 215.689472 217.522964 \nL 215.858085 217.522964 \nL 216.026699 216.637862 \nL 216.195313 217.522964 \nL 216.701154 217.522964 \nM 217.206995 217.522964 \nL 217.88145 217.522964 \nM 218.555905 200.410996 \nL 218.724519 216.342828 \nL 218.893133 212.802421 \nL 219.061746 216.342828 \nL 219.23036 217.522964 \nL 219.398974 217.522964 \nL 219.567587 184.479164 \nL 219.736201 200.115962 \nL 219.904815 158.516179 \nL 220.242042 146.714823 \nL 220.410656 154.975772 \nL 220.57927 182.413927 \nL 220.747884 174.743045 \nL 220.916497 204.541471 \nL 221.085111 162.056586 \nL 221.253725 173.857943 \nL 221.422338 195.985487 \nL 221.590952 200.410996 \nL 221.759566 201.591132 \nM 222.096793 210.147116 \nL 222.265407 201.001064 \nL 222.602635 213.392489 \nL 222.771248 203.656369 \nL 222.939862 217.522964 \nL 223.614317 217.522964 \nL 223.782931 207.196776 \nL 223.951544 214.572624 \nL 224.120158 205.426573 \nL 224.288772 207.196776 \nL 224.457386 202.476234 \nL 224.625999 216.637862 \nM 224.963227 217.522964 \nL 225.131841 217.522964 \nM 225.637682 217.522964 \nL 225.974909 217.522964 \nM 226.312137 217.522964 \nL 227.323819 217.522964 \nM 227.661046 217.522964 \nL 227.998274 193.92025 \nL 228.166888 217.22793 \nL 228.335501 198.345759 \nL 228.504115 217.522964 \nM 228.841343 213.687523 \nL 229.009956 217.522964 \nL 229.17857 217.522964 \nL 229.347184 216.637862 \nL 229.515797 217.522964 \nL 229.684411 213.687523 \nL 229.853025 217.522964 \nL 230.021639 217.522964 \nL 230.190252 216.637862 \nL 230.358866 217.522964 \nL 230.52748 217.522964 \nL 230.696094 217.22793 \nL 230.864707 217.522964 \nL 231.201935 217.522964 \nM 231.539162 217.522964 \nL 232.213617 217.522964 \nM 232.719458 217.522964 \nL 233.225299 217.522964 \nL 233.393913 215.75276 \nL 233.562527 217.522964 \nL 234.236982 217.522964 \nL 234.405596 215.75276 \nL 234.574209 217.522964 \nL 235.248664 217.522964 \nM 235.585892 217.522964 \nL 235.923119 217.522964 \nM 236.42896 213.982557 \nL 236.597574 207.196776 \nL 236.766188 217.522964 \nL 236.934801 211.917319 \nL 237.272029 217.522964 \nL 237.609256 217.522964 \nM 237.946484 217.522964 \nL 239.295394 217.522964 \nL 239.464007 216.932896 \nL 239.632621 217.522964 \nL 239.801235 217.522964 \nM 240.138462 217.522964 \nL 240.307076 217.522964 \nL 240.47569 214.867658 \nL 240.644303 217.522964 \nL 241.993213 217.522964 \nL 242.161827 216.637862 \nL 242.330441 217.522964 \nL 242.499055 217.522964 \nL 242.667668 216.932896 \nL 242.836282 217.522964 \nL 243.004896 217.522964 \nL 243.173509 199.820928 \nL 243.342123 216.932896 \nL 243.510737 215.457726 \nL 243.679351 212.507387 \nL 243.847964 213.982557 \nL 244.016578 213.097455 \nL 244.185192 203.361335 \nL 244.353806 204.836505 \nL 244.522419 190.084809 \nL 244.691033 217.522964 \nL 244.859647 213.687523 \nL 245.02826 217.522964 \nL 246.039943 217.522964 \nL 246.208557 217.22793 \nM 246.545784 217.522964 \nL 246.714398 217.522964 \nL 246.883011 216.637862 \nL 247.051625 217.522964 \nL 247.388853 217.522964 \nM 247.72608 197.460657 \nL 247.894694 217.522964 \nL 248.063308 217.522964 \nL 248.231921 217.22793 \nL 248.400535 217.522964 \nL 248.737762 215.457726 \nM 249.07499 215.162692 \nL 249.243604 215.162692 \nL 249.580831 217.522964 \nL 249.749445 217.522964 \nL 249.918059 216.637862 \nM 250.255286 217.522964 \nL 250.592513 217.522964 \nM 250.929741 217.22793 \nL 251.098355 217.522964 \nL 251.266968 217.522964 \nL 251.435582 211.327251 \nL 251.604196 211.622285 \nL 251.77281 217.522964 \nL 253.290333 217.522964 \nL 253.458947 209.852082 \nL 253.627561 217.522964 \nM 253.964788 215.162692 \nL 254.133402 210.737183 \nL 254.470629 217.522964 \nL 254.807857 217.522964 \nL 254.97647 216.932896 \nL 255.145084 217.522964 \nL 255.482312 214.867658 \nL 255.650925 217.522964 \nL 255.988153 217.522964 \nL 256.156766 215.457726 \nL 256.32538 204.246437 \nL 256.493994 214.572624 \nL 256.831221 217.522964 \nL 256.999835 215.75276 \nL 257.168449 217.522964 \nL 259.0232 217.522964 \nM 259.360427 217.522964 \nL 259.697655 217.522964 \nM 260.034882 217.522964 \nL 260.37211 217.522964 \nM 260.709337 217.522964 \nL 261.046565 217.522964 \nM 261.383792 217.22793 \nL 261.552406 217.22793 \nL 261.72102 217.522964 \nL 261.889633 217.522964 \nL 262.058247 210.147116 \nL 262.564088 217.522964 \nL 262.732702 217.522964 \nL 262.901316 216.637862 \nM 263.238543 217.522964 \nL 263.575771 198.345759 \nL 263.744384 216.637862 \nL 263.912998 214.277591 \nL 264.081612 217.522964 \nM 264.587453 210.737183 \nL 264.756067 217.522964 \nL 264.92468 200.115962 \nL 265.093294 217.522964 \nL 265.261908 209.557048 \nL 265.430522 217.522964 \nL 265.599135 208.96698 \nL 265.767749 206.901742 \nL 265.936363 197.165623 \nL 266.104976 209.852082 \nL 266.27359 149.665162 \nL 266.442204 134.323398 \nL 266.610818 206.311675 \nL 266.779431 217.522964 \nL 266.948045 217.22793 \nL 267.285273 190.969911 \nL 267.453886 217.522964 \nL 267.6225 214.277591 \nL 267.791114 203.066302 \nL 267.959727 203.656369 \nL 268.128341 217.522964 \nL 268.296955 208.671946 \nL 268.465569 179.168554 \nM 268.97141 186.839436 \nL 269.308637 216.932896 \nL 269.477251 217.522964 \nL 269.645865 213.982557 \nL 269.814478 157.631078 \nL 269.983092 213.097455 \nL 270.151706 188.609639 \nL 270.32032 215.162692 \nL 270.488933 217.522964 \nL 270.657547 217.522964 \nL 270.826161 216.932896 \nM 271.163388 216.932896 \nL 271.332002 216.932896 \nL 271.500616 213.392489 \nL 271.669229 217.522964 \nL 271.837843 216.047794 \nL 272.006457 207.786844 \nL 272.175071 207.196776 \nL 272.343684 217.522964 \nL 272.512298 217.522964 \nL 272.680912 216.047794 \nM 273.018139 186.544402 \nL 273.186753 147.894958 \nL 273.355367 163.236722 \nL 273.52398 210.737183 \nL 273.692594 166.187061 \nM 274.029822 183.299029 \nL 274.198435 208.081878 \nL 274.367049 170.907604 \nL 274.535663 196.870589 \nL 274.87289 177.693384 \nL 275.041504 216.932896 \nL 275.210118 216.637862 \nL 275.378731 215.75276 \nL 275.547345 207.196776 \nL 275.715959 217.22793 \nL 275.884573 216.047794 \nL 276.053186 217.522964 \nM 276.727641 217.522964 \nL 277.402096 217.522964 \nM 277.739324 217.522964 \nL 278.076551 217.522964 \nL 278.245165 216.932896 \nL 278.413779 211.032217 \nL 278.582392 217.522964 \nL 278.751006 217.22793 \nL 278.91962 213.392489 \nM 279.256847 214.572624 \nL 279.425461 214.277591 \nL 279.594075 216.932896 \nL 279.762688 211.917319 \nL 279.931302 217.522964 \nL 280.26853 217.522964 \nL 280.437143 214.867658 \nM 280.774371 195.100386 \nL 280.942985 194.215284 \nL 281.111598 217.522964 \nL 281.280212 140.814144 \nL 281.448826 206.606709 \nL 281.617439 213.982557 \nL 281.786053 207.196776 \nL 281.954667 33.126763 \nL 282.123281 217.522964 \nL 282.291894 189.494741 \nL 282.460508 193.92025 \nL 282.629122 181.823859 \nL 282.797736 178.87352 \nL 283.303577 191.264945 \nL 283.47219 210.147116 \nL 283.640804 215.457726 \nL 283.809418 215.457726 \nL 283.978032 216.637862 \nL 284.315259 209.852082 \nL 284.483873 217.522964 \nL 284.652487 216.637862 \nL 284.989714 217.522964 \nL 285.158328 217.22793 \nL 285.326941 217.522964 \nL 285.495555 217.22793 \nL 285.664169 217.522964 \nL 285.832783 217.22793 \nL 286.001396 217.22793 \nL 286.17001 217.522964 \nL 286.338624 215.162692 \nL 286.507238 217.522964 \nM 286.844465 217.522964 \nL 287.51892 217.522964 \nL 287.687534 209.262014 \nL 287.856147 217.522964 \nL 288.024761 217.522964 \nL 288.193375 214.572624 \nL 288.361989 217.522964 \nL 289.036443 217.522964 \nL 289.205057 215.75276 \nL 289.373671 215.457726 \nL 289.542285 216.637862 \nL 289.710898 216.932896 \nL 289.879512 217.522964 \nL 290.21674 217.522964 \nL 290.385353 184.774198 \nL 290.553967 195.985487 \nL 290.722581 217.522964 \nL 290.891194 211.032217 \nL 291.059808 189.494741 \nL 291.228422 197.460657 \nL 291.397036 169.727468 \nL 291.565649 170.907604 \nL 291.734263 202.1812 \nL 292.071491 216.047794 \nL 292.240104 215.75276 \nL 292.408718 211.622285 \nL 292.577332 217.522964 \nL 292.745945 217.522964 \nL 292.914559 201.296098 \nL 293.083173 204.541471 \nL 293.251787 217.522964 \nL 293.4204 213.982557 \nL 293.589014 216.637862 \nL 293.757628 217.22793 \nM 294.094855 217.522964 \nL 294.263469 217.522964 \nL 294.432083 216.342828 \nL 294.600697 216.932896 \nL 294.76931 214.572624 \nL 294.937924 216.932896 \nL 295.106538 217.522964 \nL 295.275151 213.982557 \nL 295.443765 217.522964 \nL 295.612379 214.572624 \nL 295.780993 217.522964 \nL 295.949606 212.507387 \nL 296.11822 217.522964 \nL 296.286834 216.047794 \nL 296.455448 188.019572 \nL 296.624061 215.75276 \nM 296.961289 214.867658 \nL 297.129902 216.047794 \nL 297.298516 199.820928 \nL 297.46713 215.162692 \nL 297.635744 217.22793 \nL 297.804357 216.637862 \nL 297.972971 208.671946 \nL 298.141585 216.047794 \nL 298.647426 217.522964 \nL 298.81604 215.457726 \nL 298.984653 217.522964 \nL 299.153267 216.932896 \nL 299.321881 217.522964 \nL 299.659108 214.867658 \nL 299.827722 217.22793 \nL 299.996336 203.951403 \nL 300.16495 212.802421 \nL 300.333563 213.687523 \nL 300.502177 217.522964 \nL 300.670791 216.932896 \nL 301.008018 217.522964 \nL 301.176632 217.22793 \nM 301.513859 217.522964 \nL 301.682473 217.22793 \nM 302.019701 217.522964 \nL 302.188314 216.932896 \nL 302.525542 217.522964 \nL 303.537224 217.522964 \nL 303.705838 208.671946 \nM 304.043065 215.75276 \nL 304.211679 214.277591 \nL 304.548906 216.932896 \nL 304.71752 204.541471 \nL 304.886134 217.522964 \nL 305.054748 215.162692 \nL 305.223361 208.671946 \nL 305.391975 153.500603 \nL 305.560589 199.525894 \nL 305.729203 200.410996 \nL 305.897816 214.572624 \nL 306.235044 213.097455 \nL 306.403657 215.457726 \nL 306.572271 206.606709 \nL 306.740885 211.622285 \nL 307.078112 191.559979 \nL 307.246726 217.522964 \nL 307.41534 217.522964 \nL 307.583954 216.932896 \nL 307.752567 217.522964 \nL 308.258408 217.522964 \nL 308.427022 202.771268 \nL 308.595636 217.22793 \nL 308.76425 217.522964 \nL 308.932863 217.522964 \nL 309.101477 216.932896 \nL 309.270091 217.522964 \nL 309.438705 216.932896 \nL 309.607318 208.96698 \nL 309.944546 217.522964 \nL 310.450387 217.522964 \nL 310.619001 216.932896 \nL 310.787614 205.721607 \nL 310.956228 216.342828 \nM 311.293456 211.622285 \nL 311.462069 214.277591 \nL 311.630683 184.479164 \nL 311.799297 209.852082 \nL 312.136524 217.522964 \nL 312.305138 210.147116 \nL 312.473752 217.522964 \nL 312.642365 216.932896 \nL 312.810979 217.522964 \nL 312.979593 217.22793 \nL 313.148207 217.522964 \nL 313.31682 217.522964 \nL 313.485434 216.637862 \nL 313.654048 217.522964 \nM 313.991275 217.522964 \nL 314.159889 214.867658 \nL 314.328503 214.572624 \nL 314.497116 217.522964 \nL 314.66573 213.097455 \nL 314.834344 213.097455 \nL 315.171571 216.932896 \nM 315.508799 211.622285 \nL 315.677413 212.802421 \nL 315.846026 217.522964 \nL 316.01464 216.047794 \nL 316.183254 213.097455 \nL 316.351867 213.687523 \nL 316.520481 217.522964 \nL 316.689095 193.330182 \nL 316.857709 216.932896 \nM 317.194936 216.047794 \nL 317.36355 217.22793 \nL 317.532164 217.522964 \nL 318.881073 217.522964 \nM 319.386915 217.522964 \nL 319.555528 217.22793 \nL 319.724142 217.522964 \nL 320.567211 217.522964 \nM 320.904438 217.522964 \nL 321.073052 217.522964 \nL 321.410279 216.932896 \nL 321.578893 216.932896 \nL 321.747507 217.522964 \nL 321.91612 216.932896 \nM 322.253348 217.522964 \nL 322.421962 217.522964 \nL 322.590575 211.327251 \nM 322.927803 201.886166 \nL 323.096417 216.342828 \nL 323.26503 199.230861 \nL 323.433644 213.687523 \nL 323.602258 210.147116 \nL 323.770871 196.870589 \nL 323.939485 213.392489 \nL 324.108099 195.690453 \nL 324.276713 215.162692 \nL 324.445326 210.44215 \nL 324.61394 210.44215 \nL 324.782554 193.625216 \nL 324.951168 211.917319 \nL 325.119781 207.196776 \nL 325.457009 216.932896 \nL 325.625622 216.637862 \nL 325.794236 198.345759 \nL 326.131464 217.522964 \nM 326.468691 214.572624 \nL 326.637305 206.901742 \nL 327.143146 217.522964 \nL 327.31176 209.557048 \nM 327.648987 193.625216 \nL 327.817601 211.032217 \nL 327.986215 212.507387 \nL 328.154828 208.671946 \nL 328.323442 201.296098 \nL 328.492056 217.522964 \nL 328.66067 217.522964 \nL 328.829283 167.662231 \nM 329.166511 216.932896 \nL 329.335124 217.522964 \nL 329.503738 214.572624 \nL 329.672352 216.932896 \nM 330.009579 215.75276 \nL 330.178193 217.522964 \nL 330.346807 217.522964 \nL 330.684034 214.572624 \nL 330.852648 207.196776 \nL 331.021262 217.522964 \nL 331.189876 216.932896 \nL 331.358489 210.44215 \nL 331.527103 217.522964 \nL 331.86433 210.147116 \nL 332.032944 216.047794 \nL 332.201558 196.870589 \nL 332.370172 217.22793 \nM 332.707399 205.721607 \nL 332.876013 216.047794 \nL 333.044627 217.522964 \nL 333.21324 211.917319 \nL 333.381854 215.162692 \nM 333.719081 208.376912 \nL 333.887695 216.932896 \nL 334.056309 217.522964 \nL 334.224923 212.507387 \nL 334.393536 216.047794 \nL 334.730764 208.671946 \nL 334.899378 216.932896 \nM 335.573832 209.262014 \nL 335.742446 214.572624 \nL 336.248287 217.522964 \nL 336.416901 217.522964 \nL 336.585515 216.047794 \nL 336.754129 217.522964 \nL 336.922742 217.522964 \nL 337.091356 202.771268 \nM 337.428583 217.522964 \nL 337.597197 213.982557 \nL 337.765811 217.522964 \nL 337.934425 217.522964 \nL 338.103038 211.032217 \nL 338.271652 215.75276 \nL 338.60888 202.771268 \nL 338.777493 215.162692 \nL 338.946107 217.522964 \nL 339.114721 217.522964 \nL 339.283334 216.932896 \nM 339.620562 216.932896 \nL 339.789176 217.522964 \nL 339.957789 215.75276 \nM 340.295017 216.932896 \nL 340.463631 217.522964 \nL 341.138085 217.522964 \nL 341.306699 214.572624 \nL 341.475313 217.22793 \nL 341.643927 217.522964 \nL 342.149768 217.522964 \nL 342.655609 216.637862 \nL 342.824223 217.522964 \nL 342.992836 217.522964 \nM 343.330064 217.522964 \nL 343.498678 216.342828 \nL 343.667291 217.522964 \nL 344.004519 213.982557 \nL 344.173133 217.522964 \nL 344.341746 216.342828 \nL 344.51036 217.22793 \nL 344.678974 211.622285 \nL 344.847587 215.457726 \nL 345.016201 215.75276 \nL 345.353429 214.572624 \nL 345.522042 216.932896 \nL 345.690656 202.771268 \nM 346.027884 216.047794 \nL 346.196497 213.097455 \nL 346.365111 216.932896 \nM 346.702338 213.687523 \nL 346.870952 216.342828 \nL 347.039566 205.721607 \nL 347.20818 216.932896 \nL 347.376793 213.097455 \nM 347.714021 216.637862 \nL 347.882635 215.162692 \nL 348.219862 217.522964 \nM 348.894317 217.522964 \nL 349.568772 217.522964 \nL 349.737386 216.932896 \nM 350.074613 217.522964 \nL 350.411841 217.522964 \nM 351.086295 212.212353 \nL 351.254909 217.522964 \nL 351.423523 216.932896 \nL 351.592137 208.671946 \nL 351.76075 215.75276 \nL 352.097978 217.522964 \nL 352.435205 217.522964 \nL 352.603819 216.932896 \nL 352.772433 217.522964 \nL 352.941046 214.277591 \nL 353.10966 217.522964 \nL 353.446888 217.522964 \nL 353.615501 214.867658 \nM 353.952729 216.932896 \nL 354.121343 216.932896 \nL 354.289956 217.522964 \nL 354.964411 217.522964 \nL 355.133025 216.932896 \nL 355.301639 217.522964 \nM 355.638866 217.522964 \nL 355.80748 217.22793 \nL 355.976094 217.522964 \nM 356.313321 217.522964 \nL 356.481935 217.522964 \nL 356.819162 216.932896 \nL 356.987776 209.262014 \nL 357.15639 216.047794 \nM 357.493617 214.277591 \nL 357.662231 215.457726 \nL 357.830845 208.671946 \nL 357.999458 208.081878 \nL 358.168072 197.460657 \nL 358.505299 216.932896 \nL 358.673913 211.622285 \nL 358.842527 197.460657 \nL 359.011141 217.522964 \nL 359.179754 217.522964 \nL 359.516982 214.572624 \nL 359.685596 217.22793 \nL 359.854209 217.522964 \nL 360.022823 216.047794 \nL 360.191437 217.522964 \nL 360.36005 216.637862 \nL 360.528664 202.771268 \nL 360.697278 215.457726 \nL 360.865892 214.572624 \nL 361.034505 217.522964 \nL 361.203119 216.932896 \nL 361.540347 211.327251 \nL 361.70896 206.016641 \nL 361.877574 216.637862 \nL 362.046188 217.522964 \nL 362.214801 213.982557 \nL 362.383415 212.802421 \nL 362.552029 146.714823 \nL 362.720643 216.047794 \nL 362.889256 217.522964 \nL 363.05787 216.047794 \nL 363.563711 217.522964 \nL 363.900939 217.522964 \nL 364.069552 214.867658 \nL 364.238166 217.522964 \nL 364.40678 209.557048 \nL 364.575394 216.047794 \nL 364.744007 217.522964 \nL 364.912621 216.637862 \nL 365.081235 196.870589 \nL 365.418462 215.75276 \nL 365.587076 213.982557 \nL 365.75569 217.522964 \nL 366.092917 217.522964 \nL 366.261531 214.572624 \nL 366.598758 217.522964 \nL 366.935986 217.522964 \nL 367.1046 216.637862 \nL 367.273213 211.622285 \nL 367.441827 217.522964 \nL 367.610441 99.509395 \nL 367.779055 213.982557 \nL 367.947668 215.457726 \nL 368.116282 215.75276 \nL 368.284896 217.522964 \nL 368.453509 211.622285 \nL 368.622123 193.92025 \nL 368.790737 215.457726 \nL 368.959351 216.047794 \nL 369.127964 182.413927 \nL 369.296578 199.525894 \nL 369.465192 192.740114 \nL 369.633806 200.410996 \nM 369.971033 217.522964 \nL 370.30826 208.671946 \nL 370.476874 216.047794 \nL 370.645488 217.522964 \nL 370.814102 216.637862 \nL 370.982715 214.277591 \nL 371.151329 216.932896 \nL 371.319943 208.671946 \nL 371.488557 217.522964 \nL 371.65717 215.75276 \nM 371.994398 217.522964 \nL 372.163011 213.982557 \nL 372.331625 217.22793 \nL 372.500239 217.522964 \nL 373.174694 217.522964 \nM 373.511921 213.392489 \nL 373.680535 217.522964 \nL 373.849149 205.721607 \nL 374.017762 217.522964 \nL 374.35499 213.687523 \nL 374.523604 217.22793 \nL 374.692217 217.522964 \nL 374.860831 216.932896 \nL 375.029445 210.737183 \nL 375.198059 208.671946 \nL 375.366672 217.522964 \nL 375.535286 215.75276 \nL 375.7039 217.522964 \nL 376.041127 217.522964 \nL 376.209741 208.671946 \nL 376.378355 217.522964 \nL 376.546968 217.522964 \nM 376.884196 217.522964 \nL 377.05281 217.522964 \nM 377.390037 217.522964 \nL 377.558651 217.522964 \nM 377.895878 217.522964 \nL 378.064492 216.932896 \nL 378.401719 210.147116 \nL 378.570333 217.522964 \nL 378.738947 216.047794 \nL 378.907561 217.522964 \nL 379.076174 215.75276 \nL 379.244788 217.522964 \nL 379.413402 217.22793 \nL 379.582015 217.522964 \nL 379.750629 216.342828 \nL 379.919243 217.522964 \nL 380.087857 216.932896 \nL 380.25647 217.522964 \nM 380.593698 215.75276 \nL 380.762312 217.522964 \nL 381.436766 217.522964 \nM 381.773994 217.522964 \nL 381.942608 216.047794 \nL 382.111221 217.522964 \nL 382.279835 217.522964 \nL 382.448449 214.572624 \nL 382.617063 217.522964 \nL 382.785676 217.522964 \nL 382.95429 207.49181 \nL 383.122904 217.522964 \nL 383.291517 217.522964 \nL 383.460131 213.097455 \nL 383.628745 217.522964 \nL 383.797359 217.522964 \nL 383.965972 215.457726 \nL 384.134586 217.522964 \nM 384.471814 217.522964 \nL 385.146269 217.522964 \nL 385.314882 213.392489 \nL 385.483496 217.522964 \nM 385.989337 217.522964 \nL 386.157951 217.522964 \nL 386.326565 217.22793 \nL 386.495178 217.522964 \nL 386.663792 215.162692 \nL 386.832406 211.032217 \nL 387.00102 217.522964 \nL 387.169633 215.75276 \nL 387.338247 208.081878 \nL 387.506861 216.932896 \nL 387.675474 205.131539 \nL 387.844088 217.522964 \nL 388.012702 213.982557 \nL 388.181316 217.522964 \nL 388.349929 215.457726 \nL 388.518543 205.131539 \nL 388.855771 217.22793 \nL 389.024384 217.522964 \nL 389.192998 216.047794 \nM 389.530225 217.522964 \nL 389.698839 215.75276 \nL 389.867453 217.522964 \nL 390.20468 217.522964 \nM 390.541908 214.867658 \nL 390.710522 217.522964 \nM 391.047749 217.22793 \nL 391.216363 217.522964 \nM 391.55359 216.932896 \nL 391.722204 201.001064 \nL 391.890818 217.522964 \nL 392.059431 202.771268 \nL 392.228045 217.522964 \nL 392.565273 217.522964 \nL 392.733886 215.162692 \nL 392.9025 204.246437 \nL 392.9025 204.246437 \n\" style=\"fill:none;stroke:#008fd5;stroke-width:4;\"/>\n   </g>\n   <g id=\"patch_3\">\n    <path d=\"M 17.0625 227.4066 \nL 17.0625 9.9666 \n\" style=\"fill:none;stroke:#f0f0f0;stroke-linecap:square;stroke-linejoin:miter;stroke-width:3;\"/>\n   </g>\n   <g id=\"patch_4\">\n    <path d=\"M 392.9025 227.4066 \nL 392.9025 9.9666 \n\" style=\"fill:none;stroke:#f0f0f0;stroke-linecap:square;stroke-linejoin:miter;stroke-width:3;\"/>\n   </g>\n   <g id=\"patch_5\">\n    <path d=\"M 17.0625 227.4066 \nL 392.9025 227.4066 \n\" style=\"fill:none;stroke:#f0f0f0;stroke-linecap:square;stroke-linejoin:miter;stroke-width:3;\"/>\n   </g>\n   <g id=\"patch_6\">\n    <path d=\"M 17.0625 9.9666 \nL 392.9025 9.9666 \n\" style=\"fill:none;stroke:#f0f0f0;stroke-linecap:square;stroke-linejoin:miter;stroke-width:3;\"/>\n   </g>\n   <g id=\"legend_1\">\n    <g id=\"patch_7\">\n     <path d=\"M 140.350875 32.644725 \nL 235.5665 32.644725 \nQ 237.5665 32.644725 237.5665 30.644725 \nL 237.5665 16.9666 \nQ 237.5665 14.9666 235.5665 14.9666 \nL 140.350875 14.9666 \nQ 138.350875 14.9666 138.350875 16.9666 \nL 138.350875 30.644725 \nQ 138.350875 32.644725 140.350875 32.644725 \nz\n\" style=\"fill:#f0f0f0;opacity:0.8;stroke:#cccccc;stroke-linejoin:miter;stroke-width:0.5;\"/>\n    </g>\n    <g id=\"line2d_18\">\n     <path d=\"M 142.350875 23.065038 \nL 162.350875 23.065038 \n\" style=\"fill:none;stroke:#008fd5;stroke-width:4;\"/>\n    </g>\n    <g id=\"line2d_19\"/>\n    <g id=\"text_10\">\n     <!-- precipitation -->\n     <defs>\n      <path d=\"M 18.109375 8.203125 \nL 18.109375 -20.796875 \nL 9.078125 -20.796875 \nL 9.078125 54.6875 \nL 18.109375 54.6875 \nL 18.109375 46.390625 \nQ 20.953125 51.265625 25.265625 53.625 \nQ 29.59375 56 35.59375 56 \nQ 45.5625 56 51.78125 48.09375 \nQ 58.015625 40.1875 58.015625 27.296875 \nQ 58.015625 14.40625 51.78125 6.484375 \nQ 45.5625 -1.421875 35.59375 -1.421875 \nQ 29.59375 -1.421875 25.265625 0.953125 \nQ 20.953125 3.328125 18.109375 8.203125 \nz\nM 48.6875 27.296875 \nQ 48.6875 37.203125 44.609375 42.84375 \nQ 40.53125 48.484375 33.40625 48.484375 \nQ 26.265625 48.484375 22.1875 42.84375 \nQ 18.109375 37.203125 18.109375 27.296875 \nQ 18.109375 17.390625 22.1875 11.75 \nQ 26.265625 6.109375 33.40625 6.109375 \nQ 40.53125 6.109375 44.609375 11.75 \nQ 48.6875 17.390625 48.6875 27.296875 \nz\n\" id=\"DejaVuSans-70\"/>\n      <path d=\"M 41.109375 46.296875 \nQ 39.59375 47.171875 37.8125 47.578125 \nQ 36.03125 48 33.890625 48 \nQ 26.265625 48 22.1875 43.046875 \nQ 18.109375 38.09375 18.109375 28.8125 \nL 18.109375 0 \nL 9.078125 0 \nL 9.078125 54.6875 \nL 18.109375 54.6875 \nL 18.109375 46.1875 \nQ 20.953125 51.171875 25.484375 53.578125 \nQ 30.03125 56 36.53125 56 \nQ 37.453125 56 38.578125 55.875 \nQ 39.703125 55.765625 41.0625 55.515625 \nz\n\" id=\"DejaVuSans-72\"/>\n      <path d=\"M 48.78125 52.59375 \nL 48.78125 44.1875 \nQ 44.96875 46.296875 41.140625 47.34375 \nQ 37.3125 48.390625 33.40625 48.390625 \nQ 24.65625 48.390625 19.8125 42.84375 \nQ 14.984375 37.3125 14.984375 27.296875 \nQ 14.984375 17.28125 19.8125 11.734375 \nQ 24.65625 6.203125 33.40625 6.203125 \nQ 37.3125 6.203125 41.140625 7.25 \nQ 44.96875 8.296875 48.78125 10.40625 \nL 48.78125 2.09375 \nQ 45.015625 0.34375 40.984375 -0.53125 \nQ 36.96875 -1.421875 32.421875 -1.421875 \nQ 20.0625 -1.421875 12.78125 6.34375 \nQ 5.515625 14.109375 5.515625 27.296875 \nQ 5.515625 40.671875 12.859375 48.328125 \nQ 20.21875 56 33.015625 56 \nQ 37.15625 56 41.109375 55.140625 \nQ 45.0625 54.296875 48.78125 52.59375 \nz\n\" id=\"DejaVuSans-63\"/>\n      <path d=\"M 9.421875 54.6875 \nL 18.40625 54.6875 \nL 18.40625 0 \nL 9.421875 0 \nz\nM 9.421875 75.984375 \nL 18.40625 75.984375 \nL 18.40625 64.59375 \nL 9.421875 64.59375 \nz\n\" id=\"DejaVuSans-69\"/>\n      <path d=\"M 30.609375 48.390625 \nQ 23.390625 48.390625 19.1875 42.75 \nQ 14.984375 37.109375 14.984375 27.296875 \nQ 14.984375 17.484375 19.15625 11.84375 \nQ 23.34375 6.203125 30.609375 6.203125 \nQ 37.796875 6.203125 41.984375 11.859375 \nQ 46.1875 17.53125 46.1875 27.296875 \nQ 46.1875 37.015625 41.984375 42.703125 \nQ 37.796875 48.390625 30.609375 48.390625 \nz\nM 30.609375 56 \nQ 42.328125 56 49.015625 48.375 \nQ 55.71875 40.765625 55.71875 27.296875 \nQ 55.71875 13.875 49.015625 6.21875 \nQ 42.328125 -1.421875 30.609375 -1.421875 \nQ 18.84375 -1.421875 12.171875 6.21875 \nQ 5.515625 13.875 5.515625 27.296875 \nQ 5.515625 40.765625 12.171875 48.375 \nQ 18.84375 56 30.609375 56 \nz\n\" id=\"DejaVuSans-6f\"/>\n      <path d=\"M 54.890625 33.015625 \nL 54.890625 0 \nL 45.90625 0 \nL 45.90625 32.71875 \nQ 45.90625 40.484375 42.875 44.328125 \nQ 39.84375 48.1875 33.796875 48.1875 \nQ 26.515625 48.1875 22.3125 43.546875 \nQ 18.109375 38.921875 18.109375 30.90625 \nL 18.109375 0 \nL 9.078125 0 \nL 9.078125 54.6875 \nL 18.109375 54.6875 \nL 18.109375 46.1875 \nQ 21.34375 51.125 25.703125 53.5625 \nQ 30.078125 56 35.796875 56 \nQ 45.21875 56 50.046875 50.171875 \nQ 54.890625 44.34375 54.890625 33.015625 \nz\n\" id=\"DejaVuSans-6e\"/>\n     </defs>\n     <g transform=\"translate(170.350875 26.565038)scale(0.1 -0.1)\">\n      <use xlink:href=\"#DejaVuSans-70\"/>\n      <use x=\"63.476562\" xlink:href=\"#DejaVuSans-72\"/>\n      <use x=\"104.558594\" xlink:href=\"#DejaVuSans-65\"/>\n      <use x=\"166.082031\" xlink:href=\"#DejaVuSans-63\"/>\n      <use x=\"221.0625\" xlink:href=\"#DejaVuSans-69\"/>\n      <use x=\"248.845703\" xlink:href=\"#DejaVuSans-70\"/>\n      <use x=\"312.322266\" xlink:href=\"#DejaVuSans-69\"/>\n      <use x=\"340.105469\" xlink:href=\"#DejaVuSans-74\"/>\n      <use x=\"379.314453\" xlink:href=\"#DejaVuSans-61\"/>\n      <use x=\"440.59375\" xlink:href=\"#DejaVuSans-74\"/>\n      <use x=\"479.802734\" xlink:href=\"#DejaVuSans-69\"/>\n      <use x=\"507.585938\" xlink:href=\"#DejaVuSans-6f\"/>\n      <use x=\"568.767578\" xlink:href=\"#DejaVuSans-6e\"/>\n     </g>\n    </g>\n   </g>\n  </g>\n </g>\n <defs>\n  <clipPath id=\"p7f08b1ded1\">\n   <rect height=\"217.44\" width=\"375.84\" x=\"17.0625\" y=\"9.9666\"/>\n  </clipPath>\n </defs>\n</svg>\n",
            "text/plain": "<Figure size 432x288 with 1 Axes>"
          },
          "metadata": {
            "needs_background": "light"
          },
          "output_type": "display_data"
        }
      ],
      "source": [
        "# Use Pandas Plotting with Matplotlib to plot the data\n",
        "plt.figure()\n",
        "\n",
        "prcp_series.plot(xticks=[]).legend(bbox_to_anchor=(0.6,1))"
      ]
    },
    {
      "cell_type": "markdown",
      "execution_count": null,
      "metadata": {},
      "outputs": [],
      "source": [
        "![precipitation](Images/precipitation.png)"
      ]
    },
    {
      "cell_type": "code",
      "execution_count": 17,
      "metadata": {},
      "outputs": [
        {
          "data": {
            "text/plain": "count    2021.000000\nmean        0.177279\nstd         0.461190\nmin         0.000000\n25%         0.000000\n50%         0.020000\n75%         0.130000\nmax         6.700000\nName: precipitation, dtype: float64"
          },
          "execution_count": 17,
          "metadata": {},
          "output_type": "execute_result"
        }
      ],
      "source": [
        "# Use Pandas to calcualte the summary statistics for the precipitation data\n",
        "prcp_series.describe()"
      ]
    },
    {
      "cell_type": "code",
      "execution_count": 18,
      "metadata": {},
      "outputs": [
        {
          "name": "stdout",
          "output_type": "stream",
          "text": "/bin/sh: -c: line 0: syntax error near unexpected token `Images/describe.png'\n/bin/sh: -c: line 0: `[describe](Images/describe.png)'\n"
        }
      ],
      "source": [
        "![describe](Images/describe.png)"
      ]
    },
    {
      "cell_type": "code",
      "execution_count": 19,
      "metadata": {},
      "outputs": [
        {
          "data": {
            "text/plain": "9"
          },
          "execution_count": 19,
          "metadata": {},
          "output_type": "execute_result"
        }
      ],
      "source": [
        "# Design a query to show how many stations are available in this dataset?\n",
        "len(session.query(Station).distinct().all())"
      ]
    },
    {
      "cell_type": "code",
      "execution_count": 35,
      "metadata": {},
      "outputs": [
        {
          "data": {
            "text/html": "<div>\n<style scoped>\n    .dataframe tbody tr th:only-of-type {\n        vertical-align: middle;\n    }\n\n    .dataframe tbody tr th {\n        vertical-align: top;\n    }\n\n    .dataframe thead th {\n        text-align: right;\n    }\n</style>\n<table border=\"1\" class=\"dataframe\">\n  <thead>\n    <tr style=\"text-align: right;\">\n      <th></th>\n      <th>id</th>\n      <th>precipitation</th>\n      <th>tobs</th>\n    </tr>\n    <tr>\n      <th>station</th>\n      <th></th>\n      <th></th>\n      <th></th>\n    </tr>\n  </thead>\n  <tbody>\n    <tr>\n      <td>USC00513117</td>\n      <td>343</td>\n      <td>343</td>\n      <td>343</td>\n    </tr>\n    <tr>\n      <td>USC00514830</td>\n      <td>305</td>\n      <td>265</td>\n      <td>305</td>\n    </tr>\n    <tr>\n      <td>USC00516128</td>\n      <td>349</td>\n      <td>328</td>\n      <td>349</td>\n    </tr>\n    <tr>\n      <td>USC00517948</td>\n      <td>183</td>\n      <td>60</td>\n      <td>183</td>\n    </tr>\n    <tr>\n      <td>USC00519281</td>\n      <td>352</td>\n      <td>352</td>\n      <td>352</td>\n    </tr>\n    <tr>\n      <td>USC00519397</td>\n      <td>361</td>\n      <td>359</td>\n      <td>361</td>\n    </tr>\n    <tr>\n      <td>USC00519523</td>\n      <td>337</td>\n      <td>314</td>\n      <td>337</td>\n    </tr>\n  </tbody>\n</table>\n</div>",
            "text/plain": "              id  precipitation  tobs\nstation                              \nUSC00513117  343            343   343\nUSC00514830  305            265   305\nUSC00516128  349            328   349\nUSC00517948  183             60   183\nUSC00519281  352            352   352\nUSC00519397  361            359   361\nUSC00519523  337            314   337"
          },
          "execution_count": 35,
          "metadata": {},
          "output_type": "execute_result"
        }
      ],
      "source": [
        "# What are the most active stations? (i.e. what stations have the most rows)?\n",
        "# List the stations and the counts in descending order.\n",
        "active = df.groupby('station').count()\n",
        "active"
      ]
    },
    {
      "cell_type": "code",
      "execution_count": 21,
      "metadata": {},
      "outputs": [
        {
          "name": "stdout",
          "output_type": "stream",
          "text": "min: 60.0\nmax: 87.0\nmean: 75.2\n"
        }
      ],
      "source": [
        "# Using the station id from the previous query, calculate the lowest temperature recorded, \n",
        "# highest temperature recorded, and average temperature of the most active station?\n",
        "active_station_name = active.iloc[0].name\n",
        "active_station = df[df['station'] == active_station_name]\n",
        "min_temp = active_station['tobs'].min()\n",
        "max_temp = active_station['tobs'].max()\n",
        "mean_temp = active_station['tobs'].mean()\n",
        "print(\"min:\", min_temp)\n",
        "print(\"max:\", max_temp)\n",
        "print(\"mean:\", round(mean_temp,1))\n"
      ]
    },
    {
      "cell_type": "code",
      "execution_count": 22,
      "metadata": {},
      "outputs": [
        {
          "data": {
            "text/plain": "<matplotlib.axes._subplots.AxesSubplot at 0x122b59710>"
          },
          "execution_count": 22,
          "metadata": {},
          "output_type": "execute_result"
        },
        {
          "data": {
            "image/png": "[encoded data removed]",
            "image/svg+xml": "<?xml version=\"1.0\" encoding=\"utf-8\" standalone=\"no\"?>\n<!DOCTYPE svg PUBLIC \"-//W3C//DTD SVG 1.1//EN\"\n  \"http://www.w3.org/Graphics/SVG/1.1/DTD/svg11.dtd\">\n<!-- Created with matplotlib (http://matplotlib.org/) -->\n<svg height=\"245.018125pt\" version=\"1.1\" viewBox=\"0 0 412.8275 245.018125\" width=\"412.8275pt\" xmlns=\"http://www.w3.org/2000/svg\" xmlns:xlink=\"http://www.w3.org/1999/xlink\">\n <defs>\n  <style type=\"text/css\">\n*{stroke-linecap:butt;stroke-linejoin:round;}\n  </style>\n </defs>\n <g id=\"figure_1\">\n  <g id=\"patch_1\">\n   <path d=\"M 0 245.018125 \nL 412.8275 245.018125 \nL 412.8275 0 \nL 0 0 \nz\n\" style=\"fill:none;\"/>\n  </g>\n  <g id=\"axes_1\">\n   <g id=\"patch_2\">\n    <path d=\"M 29.7875 224.64 \nL 405.6275 224.64 \nL 405.6275 7.2 \nL 29.7875 7.2 \nz\n\" style=\"fill:#f0f0f0;\"/>\n   </g>\n   <g id=\"matplotlib.axis_1\">\n    <g id=\"xtick_1\">\n     <g id=\"line2d_1\">\n      <path clip-path=\"url(#pd5fd483874)\" d=\"M 46.871136 224.64 \nL 46.871136 7.2 \n\" style=\"fill:none;stroke:#cbcbcb;\"/>\n     </g>\n     <g id=\"line2d_2\"/>\n     <g id=\"text_1\">\n      <!-- 60 -->\n      <defs>\n       <path d=\"M 33.015625 40.375 \nQ 26.375 40.375 22.484375 35.828125 \nQ 18.609375 31.296875 18.609375 23.390625 \nQ 18.609375 15.53125 22.484375 10.953125 \nQ 26.375 6.390625 33.015625 6.390625 \nQ 39.65625 6.390625 43.53125 10.953125 \nQ 47.40625 15.53125 47.40625 23.390625 \nQ 47.40625 31.296875 43.53125 35.828125 \nQ 39.65625 40.375 33.015625 40.375 \nz\nM 52.59375 71.296875 \nL 52.59375 62.3125 \nQ 48.875 64.0625 45.09375 64.984375 \nQ 41.3125 65.921875 37.59375 65.921875 \nQ 27.828125 65.921875 22.671875 59.328125 \nQ 17.53125 52.734375 16.796875 39.40625 \nQ 19.671875 43.65625 24.015625 45.921875 \nQ 28.375 48.1875 33.59375 48.1875 \nQ 44.578125 48.1875 50.953125 41.515625 \nQ 57.328125 34.859375 57.328125 23.390625 \nQ 57.328125 12.15625 50.6875 5.359375 \nQ 44.046875 -1.421875 33.015625 -1.421875 \nQ 20.359375 -1.421875 13.671875 8.265625 \nQ 6.984375 17.96875 6.984375 36.375 \nQ 6.984375 53.65625 15.1875 63.9375 \nQ 23.390625 74.21875 37.203125 74.21875 \nQ 40.921875 74.21875 44.703125 73.484375 \nQ 48.484375 72.75 52.59375 71.296875 \nz\n\" id=\"DejaVuSans-36\"/>\n       <path d=\"M 31.78125 66.40625 \nQ 24.171875 66.40625 20.328125 58.90625 \nQ 16.5 51.421875 16.5 36.375 \nQ 16.5 21.390625 20.328125 13.890625 \nQ 24.171875 6.390625 31.78125 6.390625 \nQ 39.453125 6.390625 43.28125 13.890625 \nQ 47.125 21.390625 47.125 36.375 \nQ 47.125 51.421875 43.28125 58.90625 \nQ 39.453125 66.40625 31.78125 66.40625 \nz\nM 31.78125 74.21875 \nQ 44.046875 74.21875 50.515625 64.515625 \nQ 56.984375 54.828125 56.984375 36.375 \nQ 56.984375 17.96875 50.515625 8.265625 \nQ 44.046875 -1.421875 31.78125 -1.421875 \nQ 19.53125 -1.421875 13.0625 8.265625 \nQ 6.59375 17.96875 6.59375 36.375 \nQ 6.59375 54.828125 13.0625 64.515625 \nQ 19.53125 74.21875 31.78125 74.21875 \nz\n\" id=\"DejaVuSans-30\"/>\n      </defs>\n      <g transform=\"translate(40.508636 235.738437)scale(0.1 -0.1)\">\n       <use xlink:href=\"#DejaVuSans-36\"/>\n       <use x=\"63.623047\" xlink:href=\"#DejaVuSans-30\"/>\n      </g>\n     </g>\n    </g>\n    <g id=\"xtick_2\">\n     <g id=\"line2d_3\">\n      <path clip-path=\"url(#pd5fd483874)\" d=\"M 110.143864 224.64 \nL 110.143864 7.2 \n\" style=\"fill:none;stroke:#cbcbcb;\"/>\n     </g>\n     <g id=\"line2d_4\"/>\n     <g id=\"text_2\">\n      <!-- 65 -->\n      <defs>\n       <path d=\"M 10.796875 72.90625 \nL 49.515625 72.90625 \nL 49.515625 64.59375 \nL 19.828125 64.59375 \nL 19.828125 46.734375 \nQ 21.96875 47.46875 24.109375 47.828125 \nQ 26.265625 48.1875 28.421875 48.1875 \nQ 40.625 48.1875 47.75 41.5 \nQ 54.890625 34.8125 54.890625 23.390625 \nQ 54.890625 11.625 47.5625 5.09375 \nQ 40.234375 -1.421875 26.90625 -1.421875 \nQ 22.3125 -1.421875 17.546875 -0.640625 \nQ 12.796875 0.140625 7.71875 1.703125 \nL 7.71875 11.625 \nQ 12.109375 9.234375 16.796875 8.0625 \nQ 21.484375 6.890625 26.703125 6.890625 \nQ 35.15625 6.890625 40.078125 11.328125 \nQ 45.015625 15.765625 45.015625 23.390625 \nQ 45.015625 31 40.078125 35.4375 \nQ 35.15625 39.890625 26.703125 39.890625 \nQ 22.75 39.890625 18.8125 39.015625 \nQ 14.890625 38.140625 10.796875 36.28125 \nz\n\" id=\"DejaVuSans-35\"/>\n      </defs>\n      <g transform=\"translate(103.781364 235.738437)scale(0.1 -0.1)\">\n       <use xlink:href=\"#DejaVuSans-36\"/>\n       <use x=\"63.623047\" xlink:href=\"#DejaVuSans-35\"/>\n      </g>\n     </g>\n    </g>\n    <g id=\"xtick_3\">\n     <g id=\"line2d_5\">\n      <path clip-path=\"url(#pd5fd483874)\" d=\"M 173.416591 224.64 \nL 173.416591 7.2 \n\" style=\"fill:none;stroke:#cbcbcb;\"/>\n     </g>\n     <g id=\"line2d_6\"/>\n     <g id=\"text_3\">\n      <!-- 70 -->\n      <defs>\n       <path d=\"M 8.203125 72.90625 \nL 55.078125 72.90625 \nL 55.078125 68.703125 \nL 28.609375 0 \nL 18.3125 0 \nL 43.21875 64.59375 \nL 8.203125 64.59375 \nz\n\" id=\"DejaVuSans-37\"/>\n      </defs>\n      <g transform=\"translate(167.054091 235.738437)scale(0.1 -0.1)\">\n       <use xlink:href=\"#DejaVuSans-37\"/>\n       <use x=\"63.623047\" xlink:href=\"#DejaVuSans-30\"/>\n      </g>\n     </g>\n    </g>\n    <g id=\"xtick_4\">\n     <g id=\"line2d_7\">\n      <path clip-path=\"url(#pd5fd483874)\" d=\"M 236.689318 224.64 \nL 236.689318 7.2 \n\" style=\"fill:none;stroke:#cbcbcb;\"/>\n     </g>\n     <g id=\"line2d_8\"/>\n     <g id=\"text_4\">\n      <!-- 75 -->\n      <g transform=\"translate(230.326818 235.738437)scale(0.1 -0.1)\">\n       <use xlink:href=\"#DejaVuSans-37\"/>\n       <use x=\"63.623047\" xlink:href=\"#DejaVuSans-35\"/>\n      </g>\n     </g>\n    </g>\n    <g id=\"xtick_5\">\n     <g id=\"line2d_9\">\n      <path clip-path=\"url(#pd5fd483874)\" d=\"M 299.962045 224.64 \nL 299.962045 7.2 \n\" style=\"fill:none;stroke:#cbcbcb;\"/>\n     </g>\n     <g id=\"line2d_10\"/>\n     <g id=\"text_5\">\n      <!-- 80 -->\n      <defs>\n       <path d=\"M 31.78125 34.625 \nQ 24.75 34.625 20.71875 30.859375 \nQ 16.703125 27.09375 16.703125 20.515625 \nQ 16.703125 13.921875 20.71875 10.15625 \nQ 24.75 6.390625 31.78125 6.390625 \nQ 38.8125 6.390625 42.859375 10.171875 \nQ 46.921875 13.96875 46.921875 20.515625 \nQ 46.921875 27.09375 42.890625 30.859375 \nQ 38.875 34.625 31.78125 34.625 \nz\nM 21.921875 38.8125 \nQ 15.578125 40.375 12.03125 44.71875 \nQ 8.5 49.078125 8.5 55.328125 \nQ 8.5 64.0625 14.71875 69.140625 \nQ 20.953125 74.21875 31.78125 74.21875 \nQ 42.671875 74.21875 48.875 69.140625 \nQ 55.078125 64.0625 55.078125 55.328125 \nQ 55.078125 49.078125 51.53125 44.71875 \nQ 48 40.375 41.703125 38.8125 \nQ 48.828125 37.15625 52.796875 32.3125 \nQ 56.78125 27.484375 56.78125 20.515625 \nQ 56.78125 9.90625 50.3125 4.234375 \nQ 43.84375 -1.421875 31.78125 -1.421875 \nQ 19.734375 -1.421875 13.25 4.234375 \nQ 6.78125 9.90625 6.78125 20.515625 \nQ 6.78125 27.484375 10.78125 32.3125 \nQ 14.796875 37.15625 21.921875 38.8125 \nz\nM 18.3125 54.390625 \nQ 18.3125 48.734375 21.84375 45.5625 \nQ 25.390625 42.390625 31.78125 42.390625 \nQ 38.140625 42.390625 41.71875 45.5625 \nQ 45.3125 48.734375 45.3125 54.390625 \nQ 45.3125 60.0625 41.71875 63.234375 \nQ 38.140625 66.40625 31.78125 66.40625 \nQ 25.390625 66.40625 21.84375 63.234375 \nQ 18.3125 60.0625 18.3125 54.390625 \nz\n\" id=\"DejaVuSans-38\"/>\n      </defs>\n      <g transform=\"translate(293.599545 235.738437)scale(0.1 -0.1)\">\n       <use xlink:href=\"#DejaVuSans-38\"/>\n       <use x=\"63.623047\" xlink:href=\"#DejaVuSans-30\"/>\n      </g>\n     </g>\n    </g>\n    <g id=\"xtick_6\">\n     <g id=\"line2d_11\">\n      <path clip-path=\"url(#pd5fd483874)\" d=\"M 363.234773 224.64 \nL 363.234773 7.2 \n\" style=\"fill:none;stroke:#cbcbcb;\"/>\n     </g>\n     <g id=\"line2d_12\"/>\n     <g id=\"text_6\">\n      <!-- 85 -->\n      <g transform=\"translate(356.872273 235.738437)scale(0.1 -0.1)\">\n       <use xlink:href=\"#DejaVuSans-38\"/>\n       <use x=\"63.623047\" xlink:href=\"#DejaVuSans-35\"/>\n      </g>\n     </g>\n    </g>\n   </g>\n   <g id=\"matplotlib.axis_2\">\n    <g id=\"ytick_1\">\n     <g id=\"line2d_13\">\n      <path clip-path=\"url(#pd5fd483874)\" d=\"M 29.7875 224.64 \nL 405.6275 224.64 \n\" style=\"fill:none;stroke:#cbcbcb;\"/>\n     </g>\n     <g id=\"line2d_14\"/>\n     <g id=\"text_7\">\n      <!-- 0 -->\n      <g transform=\"translate(19.925 228.439219)scale(0.1 -0.1)\">\n       <use xlink:href=\"#DejaVuSans-30\"/>\n      </g>\n     </g>\n    </g>\n    <g id=\"ytick_2\">\n     <g id=\"line2d_15\">\n      <path clip-path=\"url(#pd5fd483874)\" d=\"M 29.7875 191.506286 \nL 405.6275 191.506286 \n\" style=\"fill:none;stroke:#cbcbcb;\"/>\n     </g>\n     <g id=\"line2d_16\"/>\n     <g id=\"text_8\">\n      <!-- 20 -->\n      <defs>\n       <path d=\"M 19.1875 8.296875 \nL 53.609375 8.296875 \nL 53.609375 0 \nL 7.328125 0 \nL 7.328125 8.296875 \nQ 12.9375 14.109375 22.625 23.890625 \nQ 32.328125 33.6875 34.8125 36.53125 \nQ 39.546875 41.84375 41.421875 45.53125 \nQ 43.3125 49.21875 43.3125 52.78125 \nQ 43.3125 58.59375 39.234375 62.25 \nQ 35.15625 65.921875 28.609375 65.921875 \nQ 23.96875 65.921875 18.8125 64.3125 \nQ 13.671875 62.703125 7.8125 59.421875 \nL 7.8125 69.390625 \nQ 13.765625 71.78125 18.9375 73 \nQ 24.125 74.21875 28.421875 74.21875 \nQ 39.75 74.21875 46.484375 68.546875 \nQ 53.21875 62.890625 53.21875 53.421875 \nQ 53.21875 48.921875 51.53125 44.890625 \nQ 49.859375 40.875 45.40625 35.40625 \nQ 44.1875 33.984375 37.640625 27.21875 \nQ 31.109375 20.453125 19.1875 8.296875 \nz\n\" id=\"DejaVuSans-32\"/>\n      </defs>\n      <g transform=\"translate(13.5625 195.305504)scale(0.1 -0.1)\">\n       <use xlink:href=\"#DejaVuSans-32\"/>\n       <use x=\"63.623047\" xlink:href=\"#DejaVuSans-30\"/>\n      </g>\n     </g>\n    </g>\n    <g id=\"ytick_3\">\n     <g id=\"line2d_17\">\n      <path clip-path=\"url(#pd5fd483874)\" d=\"M 29.7875 158.372571 \nL 405.6275 158.372571 \n\" style=\"fill:none;stroke:#cbcbcb;\"/>\n     </g>\n     <g id=\"line2d_18\"/>\n     <g id=\"text_9\">\n      <!-- 40 -->\n      <defs>\n       <path d=\"M 37.796875 64.3125 \nL 12.890625 25.390625 \nL 37.796875 25.390625 \nz\nM 35.203125 72.90625 \nL 47.609375 72.90625 \nL 47.609375 25.390625 \nL 58.015625 25.390625 \nL 58.015625 17.1875 \nL 47.609375 17.1875 \nL 47.609375 0 \nL 37.796875 0 \nL 37.796875 17.1875 \nL 4.890625 17.1875 \nL 4.890625 26.703125 \nz\n\" id=\"DejaVuSans-34\"/>\n      </defs>\n      <g transform=\"translate(13.5625 162.17179)scale(0.1 -0.1)\">\n       <use xlink:href=\"#DejaVuSans-34\"/>\n       <use x=\"63.623047\" xlink:href=\"#DejaVuSans-30\"/>\n      </g>\n     </g>\n    </g>\n    <g id=\"ytick_4\">\n     <g id=\"line2d_19\">\n      <path clip-path=\"url(#pd5fd483874)\" d=\"M 29.7875 125.238857 \nL 405.6275 125.238857 \n\" style=\"fill:none;stroke:#cbcbcb;\"/>\n     </g>\n     <g id=\"line2d_20\"/>\n     <g id=\"text_10\">\n      <!-- 60 -->\n      <g transform=\"translate(13.5625 129.038076)scale(0.1 -0.1)\">\n       <use xlink:href=\"#DejaVuSans-36\"/>\n       <use x=\"63.623047\" xlink:href=\"#DejaVuSans-30\"/>\n      </g>\n     </g>\n    </g>\n    <g id=\"ytick_5\">\n     <g id=\"line2d_21\">\n      <path clip-path=\"url(#pd5fd483874)\" d=\"M 29.7875 92.105143 \nL 405.6275 92.105143 \n\" style=\"fill:none;stroke:#cbcbcb;\"/>\n     </g>\n     <g id=\"line2d_22\"/>\n     <g id=\"text_11\">\n      <!-- 80 -->\n      <g transform=\"translate(13.5625 95.904362)scale(0.1 -0.1)\">\n       <use xlink:href=\"#DejaVuSans-38\"/>\n       <use x=\"63.623047\" xlink:href=\"#DejaVuSans-30\"/>\n      </g>\n     </g>\n    </g>\n    <g id=\"ytick_6\">\n     <g id=\"line2d_23\">\n      <path clip-path=\"url(#pd5fd483874)\" d=\"M 29.7875 58.971429 \nL 405.6275 58.971429 \n\" style=\"fill:none;stroke:#cbcbcb;\"/>\n     </g>\n     <g id=\"line2d_24\"/>\n     <g id=\"text_12\">\n      <!-- 100 -->\n      <defs>\n       <path d=\"M 12.40625 8.296875 \nL 28.515625 8.296875 \nL 28.515625 63.921875 \nL 10.984375 60.40625 \nL 10.984375 69.390625 \nL 28.421875 72.90625 \nL 38.28125 72.90625 \nL 38.28125 8.296875 \nL 54.390625 8.296875 \nL 54.390625 0 \nL 12.40625 0 \nz\n\" id=\"DejaVuSans-31\"/>\n      </defs>\n      <g transform=\"translate(7.2 62.770647)scale(0.1 -0.1)\">\n       <use xlink:href=\"#DejaVuSans-31\"/>\n       <use x=\"63.623047\" xlink:href=\"#DejaVuSans-30\"/>\n       <use x=\"127.246094\" xlink:href=\"#DejaVuSans-30\"/>\n      </g>\n     </g>\n    </g>\n    <g id=\"ytick_7\">\n     <g id=\"line2d_25\">\n      <path clip-path=\"url(#pd5fd483874)\" d=\"M 29.7875 25.837714 \nL 405.6275 25.837714 \n\" style=\"fill:none;stroke:#cbcbcb;\"/>\n     </g>\n     <g id=\"line2d_26\"/>\n     <g id=\"text_13\">\n      <!-- 120 -->\n      <g transform=\"translate(7.2 29.636933)scale(0.1 -0.1)\">\n       <use xlink:href=\"#DejaVuSans-31\"/>\n       <use x=\"63.623047\" xlink:href=\"#DejaVuSans-32\"/>\n       <use x=\"127.246094\" xlink:href=\"#DejaVuSans-30\"/>\n      </g>\n     </g>\n    </g>\n   </g>\n   <g id=\"patch_3\">\n    <path clip-path=\"url(#pd5fd483874)\" d=\"M 46.871136 224.64 \nL 75.343864 224.64 \nL 75.343864 213.0432 \nL 46.871136 213.0432 \nz\n\" style=\"fill:#008fd5;\"/>\n   </g>\n   <g id=\"patch_4\">\n    <path clip-path=\"url(#pd5fd483874)\" d=\"M 75.343864 224.64 \nL 103.816591 224.64 \nL 103.816591 209.729829 \nL 75.343864 209.729829 \nz\n\" style=\"fill:#008fd5;\"/>\n   </g>\n   <g id=\"patch_5\">\n    <path clip-path=\"url(#pd5fd483874)\" d=\"M 103.816591 224.64 \nL 132.289318 224.64 \nL 132.289318 204.759771 \nL 103.816591 204.759771 \nz\n\" style=\"fill:#008fd5;\"/>\n   </g>\n   <g id=\"patch_6\">\n    <path clip-path=\"url(#pd5fd483874)\" d=\"M 132.289318 224.64 \nL 160.762045 224.64 \nL 160.762045 201.4464 \nL 132.289318 201.4464 \nz\n\" style=\"fill:#008fd5;\"/>\n   </g>\n   <g id=\"patch_7\">\n    <path clip-path=\"url(#pd5fd483874)\" d=\"M 160.762045 224.64 \nL 189.234773 224.64 \nL 189.234773 158.372571 \nL 160.762045 158.372571 \nz\n\" style=\"fill:#008fd5;\"/>\n   </g>\n   <g id=\"patch_8\">\n    <path clip-path=\"url(#pd5fd483874)\" d=\"M 189.234773 224.64 \nL 217.7075 224.64 \nL 217.7075 174.939429 \nL 189.234773 174.939429 \nz\n\" style=\"fill:#008fd5;\"/>\n   </g>\n   <g id=\"patch_9\">\n    <path clip-path=\"url(#pd5fd483874)\" d=\"M 217.7075 224.64 \nL 246.180227 224.64 \nL 246.180227 163.342629 \nL 217.7075 163.342629 \nz\n\" style=\"fill:#008fd5;\"/>\n   </g>\n   <g id=\"patch_10\">\n    <path clip-path=\"url(#pd5fd483874)\" d=\"M 246.180227 224.64 \nL 274.652955 224.64 \nL 274.652955 121.925486 \nL 246.180227 121.925486 \nz\n\" style=\"fill:#008fd5;\"/>\n   </g>\n   <g id=\"patch_11\">\n    <path clip-path=\"url(#pd5fd483874)\" d=\"M 274.652955 224.64 \nL 303.125682 224.64 \nL 303.125682 17.554286 \nL 274.652955 17.554286 \nz\n\" style=\"fill:#008fd5;\"/>\n   </g>\n   <g id=\"patch_12\">\n    <path clip-path=\"url(#pd5fd483874)\" d=\"M 303.125682 224.64 \nL 331.598409 224.64 \nL 331.598409 186.536229 \nL 303.125682 186.536229 \nz\n\" style=\"fill:#008fd5;\"/>\n   </g>\n   <g id=\"patch_13\">\n    <path clip-path=\"url(#pd5fd483874)\" d=\"M 331.598409 224.64 \nL 360.071136 224.64 \nL 360.071136 222.983314 \nL 331.598409 222.983314 \nz\n\" style=\"fill:#008fd5;\"/>\n   </g>\n   <g id=\"patch_14\">\n    <path clip-path=\"url(#pd5fd483874)\" d=\"M 360.071136 224.64 \nL 388.543864 224.64 \nL 388.543864 222.983314 \nL 360.071136 222.983314 \nz\n\" style=\"fill:#008fd5;\"/>\n   </g>\n   <g id=\"patch_15\">\n    <path d=\"M 29.7875 224.64 \nL 29.7875 7.2 \n\" style=\"fill:none;stroke:#f0f0f0;stroke-linecap:square;stroke-linejoin:miter;stroke-width:3;\"/>\n   </g>\n   <g id=\"patch_16\">\n    <path d=\"M 405.6275 224.64 \nL 405.6275 7.2 \n\" style=\"fill:none;stroke:#f0f0f0;stroke-linecap:square;stroke-linejoin:miter;stroke-width:3;\"/>\n   </g>\n   <g id=\"patch_17\">\n    <path d=\"M 29.7875 224.64 \nL 405.6275 224.64 \n\" style=\"fill:none;stroke:#f0f0f0;stroke-linecap:square;stroke-linejoin:miter;stroke-width:3;\"/>\n   </g>\n   <g id=\"patch_18\">\n    <path d=\"M 29.7875 7.2 \nL 405.6275 7.2 \n\" style=\"fill:none;stroke:#f0f0f0;stroke-linecap:square;stroke-linejoin:miter;stroke-width:3;\"/>\n   </g>\n  </g>\n </g>\n <defs>\n  <clipPath id=\"pd5fd483874\">\n   <rect height=\"217.44\" width=\"375.84\" x=\"29.7875\" y=\"7.2\"/>\n  </clipPath>\n </defs>\n</svg>\n",
            "text/plain": "<Figure size 432x288 with 1 Axes>"
          },
          "metadata": {
            "needs_background": "light"
          },
          "output_type": "display_data"
        }
      ],
      "source": [
        "# Choose the station with the highest number of temperature observations.\n",
        "# Query the last 12 months of temperature observation data for this station and plot the results as a histogram\n",
        "active_df = df[df['station']==active_station_name].reset_index()\n",
        "active_df.sort_values(by='date', ascending=False, inplace=True)\n",
        "active_recent_datetime = dt.date.fromisoformat(active_df.iloc[0].date)\n",
        "active_year_prior = dt.date.isoformat((active_recent_datetime - year_delta))\n",
        "\n",
        "active_df[active_df['date'] >= active_year_prior]['tobs'].hist(bins=12)\n"
      ]
    },
    {
      "cell_type": "markdown",
      "execution_count": null,
      "metadata": {},
      "outputs": [],
      "source": [
        "![precipitation](Images/station-histogram.png)"
      ]
    },
    {
      "cell_type": "code",
      "execution_count": 23,
      "metadata": {},
      "outputs": [
        {
          "name": "stdout",
          "output_type": "stream",
          "text": "[(62.0, 69.57142857142857, 74.0)]\n"
        }
      ],
      "source": [
        "# This function called `calc_temps` will accept start date and end date in the format '%Y-%m-%d' \n",
        "# and return the minimum, average, and maximum temperatures for that range of dates\n",
        "def calc_temps(start_date, end_date):\n",
        "    \"\"\"TMIN, TAVG, and TMAX for a list of dates.\n",
        "    \n",
        "    Args:\n",
        "        start_date (string): A date string in the format %Y-%m-%d\n",
        "        end_date (string): A date string in the format %Y-%m-%d\n",
        "        \n",
        "    Returns:\n",
        "        TMIN, TAVE, and TMAX\n",
        "    \"\"\"\n",
        "    \n",
        "    return session.query(func.min(Measurement.tobs), func.avg(Measurement.tobs), func.max(Measurement.tobs)).\\\n",
        "        filter(Measurement.date >= start_date).filter(Measurement.date <= end_date).all()\n",
        "\n",
        "# function usage example\n",
        "print(calc_temps('2012-02-28', '2012-03-05'))"
      ]
    },
    {
      "cell_type": "code",
      "execution_count": 24,
      "metadata": {},
      "outputs": [],
      "source": [
        "# Use your previous function `calc_temps` to calculate the tmin, tavg, and tmax \n",
        "# for your trip using the previous year's data for those same dates.\n"
      ]
    },
    {
      "cell_type": "code",
      "execution_count": 25,
      "metadata": {},
      "outputs": [],
      "source": [
        "# Plot the results from your previous query as a bar chart. \n",
        "# Use \"Trip Avg Temp\" as your Title\n",
        "# Use the average temperature for the y value\n",
        "# Use the peak-to-peak (tmax-tmin) value as the y error bar (yerr)\n"
      ]
    },
    {
      "cell_type": "code",
      "execution_count": 26,
      "metadata": {},
      "outputs": [],
      "source": [
        "# Calculate the total amount of rainfall per weather station for your trip dates using the previous year's matching dates.\n",
        "# Sort this in descending order by precipitation amount and list the station, name, latitude, longitude, and elevation\n",
        "\n"
      ]
    },
    {
      "cell_type": "markdown",
      "execution_count": null,
      "metadata": {},
      "outputs": [],
      "source": [
        "## Optional Challenge Assignment"
      ]
    },
    {
      "cell_type": "code",
      "execution_count": 27,
      "metadata": {},
      "outputs": [
        {
          "data": {
            "text/plain": "[(62.0, 69.15384615384616, 77.0)]"
          },
          "execution_count": 27,
          "metadata": {},
          "output_type": "execute_result"
        }
      ],
      "source": [
        "# Create a query that will calculate the daily normals \n",
        "# (i.e. the averages for tmin, tmax, and tavg for all historic data matching a specific month and day)\n",
        "\n",
        "def daily_normals(date):\n",
        "    \"\"\"Daily Normals.\n",
        "    \n",
        "    Args:\n",
        "        date (str): A date string in the format '%m-%d'\n",
        "        \n",
        "    Returns:\n",
        "        A list of tuples containing the daily normals, tmin, tavg, and tmax\n",
        "    \n",
        "    \"\"\"\n",
        "    \n",
        "    sel = [func.min(Measurement.tobs), func.avg(Measurement.tobs), func.max(Measurement.tobs)]\n",
        "    return session.query(*sel).filter(func.strftime(\"%m-%d\", Measurement.date) == date).all()\n",
        "    \n",
        "daily_normals(\"01-01\")"
      ]
    },
    {
      "cell_type": "code",
      "execution_count": 28,
      "metadata": {},
      "outputs": [],
      "source": [
        "# calculate the daily normals for your trip\n",
        "# push each tuple of calculations into a list called `normals`\n",
        "\n",
        "# Set the start and end date of the trip\n",
        "\n",
        "# Use the start and end date to create a range of dates\n",
        "\n",
        "# Stip off the year and save a list of %m-%d strings\n",
        "\n",
        "# Loop through the list of %m-%d strings and calculate the normals for each date\n"
      ]
    },
    {
      "cell_type": "code",
      "execution_count": 29,
      "metadata": {},
      "outputs": [],
      "source": [
        "# Load the previous query results into a Pandas DataFrame and add the `trip_dates` range as the `date` index\n"
      ]
    },
    {
      "cell_type": "code",
      "execution_count": 30,
      "metadata": {},
      "outputs": [],
      "source": [
        "# Plot the daily normals as an area plot with `stacked=False`\n"
      ]
    }
  ],
  "metadata": {
    "kernel_info": {
      "name": "python3"
    },
    "kernelspec": {
      "name": "15f108f3-5bc3-4783-89a4-11e07db949ed",
      "language": "python",
      "display_name": "'Python Interactive'"
    },
    "language_info": {
      "name": "python",
      "version": "3.8.1-final",
      "mimetype": "text/x-python",
      "codemirror_mode": {
        "name": "ipython",
        "version": 3
      },
      "pygments_lexer": "ipython3",
      "nbconvert_exporter": "python",
      "file_extension": ".py"
    },
    "nteract": {
      "version": "0.12.3"
    },
    "varInspector": {
      "cols": {
        "lenName": 16,
        "lenType": 16,
        "lenVar": 40
      },
      "kernels_config": {
        "python": {
          "delete_cmd_postfix": "",
          "delete_cmd_prefix": "del ",
          "library": "var_list.py",
          "varRefreshCmd": "print(var_dic_list())"
        },
        "r": {
          "delete_cmd_postfix": ") ",
          "delete_cmd_prefix": "rm(",
          "library": "var_list.r",
          "varRefreshCmd": "cat(var_dic_list()) "
        }
      },
      "types_to_exclude": [
        "module",
        "function",
        "builtin_function_or_method",
        "instance",
        "_Feature"
      ],
      "window_display": false
    }
  },
  "nbformat": 4,
  "nbformat_minor": 2
}